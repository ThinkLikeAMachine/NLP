{
 "cells": [
  {
   "cell_type": "markdown",
   "id": "e24c67e2",
   "metadata": {},
   "source": [
    "## Identify targeting consumer groups\n",
    "\n",
    "In this project, unsupervised learning techniques were applied to identify targeting consumer groups for protein beverage products launched in 2020-2023. Supervised learning techniques were employed to identify the most popular ingredients for products targeting specific consumer group. The data was sourced from a market research company and represents a real-life data science task."
   ]
  },
  {
   "cell_type": "code",
   "execution_count": 1,
   "id": "ebbbfb9c",
   "metadata": {},
   "outputs": [],
   "source": [
    "import pandas as pd\n",
    "import numpy as np\n",
    "import matplotlib.pyplot as plt\n",
    "import seaborn as sns\n",
    "sns.set()\n",
    "import re"
   ]
  },
  {
   "cell_type": "code",
   "execution_count": null,
   "id": "040c1aec",
   "metadata": {},
   "outputs": [],
   "source": [
    "# This is only for the web app; Not necessary to import\n",
    "import streamlit as st\n",
    "\n",
    "!streamlit run app.py"
   ]
  },
  {
   "cell_type": "markdown",
   "id": "6c103dc5",
   "metadata": {},
   "source": [
    "***"
   ]
  },
  {
   "cell_type": "markdown",
   "id": "34c48eba",
   "metadata": {},
   "source": [
    "### Step 1: Data loading and pre-processing"
   ]
  },
  {
   "cell_type": "code",
   "execution_count": 2,
   "id": "18ffd026",
   "metadata": {},
   "outputs": [],
   "source": [
    "df_excel = pd.read_excel('protein_beverages_and_sport_drinks.xls', sheet_name = 'Innova', dtype={'Product Id':str})"
   ]
  },
  {
   "cell_type": "code",
   "execution_count": 3,
   "id": "433a676f",
   "metadata": {},
   "outputs": [
    {
     "data": {
      "text/plain": [
       "(19240, 46)"
      ]
     },
     "execution_count": 3,
     "metadata": {},
     "output_type": "execute_result"
    }
   ],
   "source": [
    "df_excel.shape"
   ]
  },
  {
   "cell_type": "code",
   "execution_count": 4,
   "id": "fcc29f47",
   "metadata": {},
   "outputs": [],
   "source": [
    "data_raw = df_excel.drop_duplicates(subset = ['Product Id','Company','Product Name'])"
   ]
  },
  {
   "cell_type": "markdown",
   "id": "89432f7c",
   "metadata": {
    "scrolled": true
   },
   "source": [
    "#### Remove 'fake' New Products\n",
    "Product event, such as \"import\", \"shelf snapshots\", and \"new package\", are not really New Product Launch, which are removed from the dataset."
   ]
  },
  {
   "cell_type": "code",
   "execution_count": null,
   "id": "f135cd26",
   "metadata": {},
   "outputs": [],
   "source": [
    "data_raw['Event'].value_counts()"
   ]
  },
  {
   "cell_type": "code",
   "execution_count": 7,
   "id": "b6aef22b",
   "metadata": {
    "scrolled": false
   },
   "outputs": [
    {
     "name": "stdout",
     "output_type": "stream",
     "text": [
      "<class 'pandas.core.series.Series'>\n",
      "Index: 11443 entries, 0 to 19239\n",
      "Series name: Claims/Features\n",
      "Non-Null Count  Dtype \n",
      "--------------  ----- \n",
      "11440 non-null  object\n",
      "dtypes: object(1)\n",
      "memory usage: 178.8+ KB\n"
     ]
    }
   ],
   "source": [
    "new_product_data = data_raw[(data_raw['Event'] == 'New Product') | (data_raw['Event'] == 'Reformulation')]\n",
    "new_product_data['Claims/Features'].info() #The product 'Claims/Features' column only has 3 null values out of 11,443 entries"
   ]
  },
  {
   "cell_type": "markdown",
   "id": "953f37af",
   "metadata": {},
   "source": [
    "***"
   ]
  },
  {
   "cell_type": "markdown",
   "id": "2d8cc0a5",
   "metadata": {},
   "source": [
    "### Step 2: Topic Modeling by LDA Method\n",
    "\n",
    "#### Step 2.1: Column 'Claims/Features' provides detailed product description and features. The texts were processed using customized tokenizer and screened through a list of customized \"stop words\" based on `spacy`"
   ]
  },
  {
   "cell_type": "code",
   "execution_count": 7,
   "id": "36b2924d",
   "metadata": {},
   "outputs": [],
   "source": [
    "#Using gensim can extract more information about the resulting generative model than using scikit-learn's LDA class\n",
    "import gensim"
   ]
  },
  {
   "cell_type": "code",
   "execution_count": 8,
   "id": "aa6ad5f9",
   "metadata": {},
   "outputs": [
    {
     "name": "stdout",
     "output_type": "stream",
     "text": [
      "<class 'pandas.core.frame.DataFrame'>\n",
      "Index: 11440 entries, 0 to 19239\n",
      "Data columns (total 1 columns):\n",
      " #   Column           Non-Null Count  Dtype \n",
      "---  ------           --------------  ----- \n",
      " 0   Claims/Features  11440 non-null  string\n",
      "dtypes: string(1)\n",
      "memory usage: 178.8 KB\n"
     ]
    }
   ],
   "source": [
    "product_features = new_product_data[['Claims/Features']].astype('string').dropna()\n",
    "product_features.info()\n",
    "feature_text = product_features['Claims/Features'].values.tolist()"
   ]
  },
  {
   "cell_type": "code",
   "execution_count": 13,
   "id": "4c3de0d1",
   "metadata": {},
   "outputs": [],
   "source": [
    "# Stop_Words = stopwords.difference({'no','free'}) # remove 'no' and 'free' from the stopwords\n",
    "import spacy\n",
    "nlp = spacy.load('en_core_web_sm', disable=['parser','ner','textcat'])\n",
    "stopwords = spacy.lang.en.stop_words.STOP_WORDS                     \n",
    "#stopwords = stopwords.difference({'he','his','her','hers'}) # Removing a few words that don't lemmatize well\n",
    "stopwords.update(['v', 'l', 'mg', 'base', 'add', 'serve', 'beta', 'contain', '.',\n",
    "                 'd', 'll', 'm', 'n', 's', 've', '‘t', '’t', 't', ':']) # Customize the stopwords\n",
    "\n",
    "def process_words(text, stop_words=set()):\n",
    "    result = []\n",
    "    for t in text:\n",
    "        doc = ' '.join(re.findall(r'\\b\\D[a-zA-Z\\'\\/]*\\b', t))\n",
    "        result.append([token.lemma_.lower() for token in nlp(doc) if token.lemma_ not in stop_words])\n",
    "        #result.append([token for token in tokens if token not in stop_words])\n",
    "    return result\n",
    "\n",
    "processed_text = process_words(feature_text, stop_words=stopwords.union(['-PRON-','serving','levels','suitable',\n",
    "                                                                         '-', ' ','  ','   ','ingredient','product']))"
   ]
  },
  {
   "cell_type": "code",
   "execution_count": 14,
   "id": "70b3143a",
   "metadata": {},
   "outputs": [
    {
     "name": "stdout",
     "output_type": "stream",
     "text": [
      "Number of unique tokens: 9004\n"
     ]
    }
   ],
   "source": [
    "dictionary = gensim.corpora.Dictionary(processed_text)\n",
    "print(f'Number of unique tokens: {len(dictionary)}')\n",
    "corpus = [dictionary.doc2bow(t) for t in processed_text]"
   ]
  },
  {
   "cell_type": "markdown",
   "id": "3b9ef1d2",
   "metadata": {},
   "source": [
    "#### Step 2.2: Find the dominant topics of product description/features for new products launched Globally\n",
    "Based on the coherence scores and checking the top words, it seems that 3 is the right number of topics"
   ]
  },
  {
   "cell_type": "code",
   "execution_count": null,
   "id": "72e1a931",
   "metadata": {},
   "outputs": [],
   "source": [
    "# Use the coherence score provided by the gensim package to optimize the number of topics\n",
    "# coherence is supposed to model \"human interpretability\" of topics\n",
    "\n",
    "coherence_scores = []\n",
    "for n in range(3, 11):\n",
    "    mod = gensim.models.ldamodel.LdaModel(corpus=corpus, \n",
    "                                          id2word=dictionary,\n",
    "                                          num_topics=n, \n",
    "                                          random_state=117, update_every=1,\n",
    "                                          chunksize=1500, \n",
    "                                          passes=5, iterations=10,\n",
    "                                          alpha='asymmetric', eta=1/100,\n",
    "                                          per_word_topics=True)\n",
    "    cmodel = gensim.models.coherencemodel.CoherenceModel(model=mod,\n",
    "                                                 texts=processed_text,\n",
    "                                                 dictionary=dictionary)\n",
    "    coherence_scores.append((n, cmodel.get_coherence()))"
   ]
  },
  {
   "cell_type": "code",
   "execution_count": null,
   "id": "a956246c",
   "metadata": {},
   "outputs": [],
   "source": [
    "coherence_scores"
   ]
  },
  {
   "cell_type": "code",
   "execution_count": 97,
   "id": "b49af4d8",
   "metadata": {},
   "outputs": [],
   "source": [
    "lda_model_3 = gensim.models.ldamodel.LdaModel(corpus=corpus, \n",
    "                                            id2word=dictionary,\n",
    "                                            num_topics=3, \n",
    "                                            random_state=117, update_every=1,\n",
    "                                            chunksize=1500, \n",
    "                                            passes=5, iterations=10,\n",
    "                                            alpha='asymmetric', eta=1/100,\n",
    "                                            per_word_topics=True)"
   ]
  },
  {
   "cell_type": "code",
   "execution_count": 98,
   "id": "862b7b95",
   "metadata": {},
   "outputs": [
    {
     "name": "stdout",
     "output_type": "stream",
     "text": [
      "[(0,\n",
      "  '0.094*\"protein\" + 0.020*\"high\" + 0.019*\"muscle\" + 0.018*\"whey\" + '\n",
      "  '0.017*\"amino\" + 0.016*\"acid\" + 0.015*\"vegan\" + 0.012*\"vegetarian\" + '\n",
      "  '0.012*\"sugar\" + 0.011*\"quality\" + 0.010*\"bcaa\" + 0.010*\"flavor\" + '\n",
      "  '0.010*\"mass\" + 0.009*\"low\" + 0.009*\"source\"'),\n",
      " (1,\n",
      "  '0.031*\"certify\" + 0.031*\"plant\" + 0.029*\"sugar\" + 0.025*\"organic\" + '\n",
      "  '0.025*\"gluten\" + 0.020*\"lactose\" + 0.018*\"vegan\" + 0.018*\"dairy\" + '\n",
      "  '0.017*\"vitamin\" + 0.017*\"certified\" + 0.017*\"calcium\" + 0.016*\"naturally\" + '\n",
      "  '0.016*\"recyclable\" + 0.015*\"source\" + 0.013*\"soy\"'),\n",
      " (2,\n",
      "  '0.029*\"muscle\" + 0.015*\"energy\" + 0.012*\"help\" + 0.011*\"body\" + '\n",
      "  '0.011*\"normal\" + 0.010*\"support\" + 0.010*\"increase\" + 0.010*\"recovery\" + '\n",
      "  '0.009*\"performance\" + 0.009*\"caffeine\" + 0.009*\"acid\" + 0.009*\"contribute\" '\n",
      "  '+ 0.008*\"bcaa\" + 0.008*\"vitamin\" + 0.007*\"fatigue\"')]\n"
     ]
    }
   ],
   "source": [
    "from pprint import pprint\n",
    "\n",
    "pprint(lda_model_3.print_topics(num_words=15))"
   ]
  },
  {
   "cell_type": "code",
   "execution_count": 17,
   "id": "49299f2e",
   "metadata": {},
   "outputs": [],
   "source": [
    "def get_main_topic_df(model, bow, texts):\n",
    "    topic_list = []\n",
    "    percent_list = []\n",
    "    keyword_list = []\n",
    "    \n",
    "    for wc in bow:\n",
    "        topic, percent = sorted(model.get_document_topics(wc), key=lambda x: x[1], reverse=True)[0]\n",
    "        topic_list.append(topic)\n",
    "        percent_list.append(round(percent, 3))\n",
    "        #keyword_list.append(' '.join(sorted([x[0] for x in model.show_topic(topic)])))\n",
    "\n",
    "    result_df = pd.concat([pd.Series(topic_list, name='Dominant_topic'), \n",
    "                           pd.Series(percent_list, name='Percent'), \n",
    "                           pd.Series(texts, name='Processed_text')],axis=1) \n",
    "                           #pd.Series(keyword_list, name='Keywords')], axis=1)\n",
    "\n",
    "    return result_df"
   ]
  },
  {
   "cell_type": "code",
   "execution_count": 99,
   "id": "218b3389",
   "metadata": {
    "scrolled": true
   },
   "outputs": [],
   "source": [
    "main_topic_df = get_main_topic_df(lda_model_3, corpus, processed_text)"
   ]
  },
  {
   "cell_type": "code",
   "execution_count": null,
   "id": "e40979fc",
   "metadata": {},
   "outputs": [],
   "source": [
    "main_topic_df.info()"
   ]
  },
  {
   "cell_type": "code",
   "execution_count": null,
   "id": "476859a1",
   "metadata": {},
   "outputs": [],
   "source": [
    "product_features.info()"
   ]
  },
  {
   "cell_type": "code",
   "execution_count": 103,
   "id": "c647214c",
   "metadata": {},
   "outputs": [
    {
     "data": {
      "image/png": "[encoded data removed]",
      "text/plain": [
       "<Figure size 432x288 with 1 Axes>"
      ]
     },
     "metadata": {},
     "output_type": "display_data"
    }
   ],
   "source": [
    "plt.bar(['Nutrition','Certifications','Muscle building & Workout'], grouped_topics.count()['Processed_text'].to_list(), width=0.6)\n",
    "plt.title(f'The main targeting consumer group of the {len(feature_text)} Products')\n",
    "plt.ylabel('Number of New Products')\n",
    "plt.xlabel('Consumer Groups')\n",
    "plt.savefig('global_plot.png')"
   ]
  },
  {
   "cell_type": "code",
   "execution_count": 119,
   "id": "93bf3d34",
   "metadata": {},
   "outputs": [],
   "source": [
    "lda_top_words_index = set()\n",
    "for i in range(lda_model_3.num_topics):\n",
    "    lda_top_words_index = lda_top_words_index.union([k for (k,v) in lda_model_3.get_topic_terms(i)])\n",
    "    \n",
    "words_we_care_about = [{dictionary[tup[0]]: tup[1] for tup in lst if tup[0] in lda_top_words_index} \n",
    "                       for lst in corpus]\n",
    "\n",
    "lda_top_words_df = pd.DataFrame(words_we_care_about).fillna(0).astype(int).sort_index(axis=1)\n",
    "lda_top_words_df['Consumer groups'] = main_topic_df['Dominant_topic']\n",
    "lda_top_words_df.loc[lda_top_words_df['Consumer groups'] == 0, 'Consumer groups'] = 'Nutrition'\n",
    "lda_top_words_df.loc[lda_top_words_df['Consumer groups'] == 1, 'Consumer groups'] = 'Certifications'\n",
    "lda_top_words_df.loc[lda_top_words_df['Consumer groups'] == 2, 'Consumer groups'] = 'Muscle building & Workout'"
   ]
  },
  {
   "cell_type": "code",
   "execution_count": 139,
   "id": "0fabf6db",
   "metadata": {},
   "outputs": [
    {
     "data": {
      "image/png": "[encoded data removed]",
      "text/plain": [
       "<Figure size 1080x360 with 1 Axes>"
      ]
     },
     "metadata": {},
     "output_type": "display_data"
    }
   ],
   "source": [
    "fig = lda_top_words_df.groupby('Consumer groups').sum().transpose().\\\n",
    "         plot(kind='bar', figsize=(15, 5), width=0.7)\n",
    "fig.set_ylabel('Word frequency')\n",
    "fig.set_title(f'Word Frequencies by Targeted Consumer Groups, Combining the Top {len(lda_top_words_index)} Words in Each Group')\n",
    "figure = fig.get_figure()\n",
    "\n",
    "figure.savefig('global_words.png')"
   ]
  },
  {
   "cell_type": "markdown",
   "id": "e0db7fae",
   "metadata": {},
   "source": [
    "#### Step 2.3: Find the dominant topics of product description/features for new products launched in NA and Europe regions\n",
    "Skipped the detailed notebook as the process was very similar as above"
   ]
  },
  {
   "cell_type": "markdown",
   "id": "e49eee1e",
   "metadata": {},
   "source": [
    "***"
   ]
  },
  {
   "cell_type": "markdown",
   "id": "2216a986",
   "metadata": {},
   "source": [
    "### Step 3: Most Common Ingredients for Each Targeting Consumer Group\n",
    "\n",
    "In this section, most popular ingredients associated with each targeting consumer group for products launched globally were identified using supervised learning technique - classification.\n",
    "\n",
    "#### Step 3.1: Build customized tokenizers\n",
    "\n",
    "Remove ingredients that are flavors, colors, acidity regulators, sweeteners, preservatives, vitamins, minerals, etc, which don't necessarily contribute to the claims of 'dairy alternative' or 'plant based', but at the same time, may occur at a high frequency and impact analysis."
   ]
  },
  {
   "cell_type": "code",
   "execution_count": 5,
   "id": "5680da73",
   "metadata": {},
   "outputs": [],
   "source": [
    "ingredient_stop_words = ['flavor', 'color', 'acid', 'sweetener', 'freshness', 'preservative', 'other ingredient', 'less than',\n",
    "                  'mineral', 'antioxidant']\n",
    "\n",
    "# ingredients tokenizer\n",
    "def splitter_cleaner(line):\n",
    "    parens = 0\n",
    "    low = 0\n",
    "    high = 0\n",
    "    out = []\n",
    "    \n",
    "    for i, c in enumerate(line):\n",
    "        if c == '(':\n",
    "            parens += 1\n",
    "        elif c == ')':\n",
    "            parens -= 1\n",
    "            if parens < 0:\n",
    "                parens = 0\n",
    "        elif (c == ',' or c =='.') and parens == 0:\n",
    "            high = i\n",
    "            word = line[low:high].strip().lower()\n",
    "            boo = False\n",
    "            for w in ingredient_stop_words:\n",
    "                if w in word:\n",
    "                    boo = boo or True\n",
    "            if word!= None and (not boo):\n",
    "                out.append(word)\n",
    "            low = i + 1\n",
    "    \n",
    "    return out"
   ]
  },
  {
   "cell_type": "code",
   "execution_count": 161,
   "id": "23549ddf",
   "metadata": {},
   "outputs": [],
   "source": [
    "# Build the dataframe\n",
    "df = main_topic_df[['Dominant_topic', 'Percent']]\n",
    "features_ingredients = df.rename(columns = {'Dominant_topic': 'dominant_feature', 'Percent': 'per_domination'})\n",
    "features_ingredients['ingredients'] = new_product_data.dropna(subset=['Claims/Features'])['Ingredients'].astype('string') \\\n",
    "                                        .reset_index(drop = True)  # need to drop index from the 'Ingredients' column, otherwise data is lost\n",
    "final_df = features_ingredients.dropna()"
   ]
  },
  {
   "cell_type": "code",
   "execution_count": 162,
   "id": "ba739a64",
   "metadata": {},
   "outputs": [
    {
     "data": {
      "text/html": [
       "<div>\n",
       "<style scoped>\n",
       "    .dataframe tbody tr th:only-of-type {\n",
       "        vertical-align: middle;\n",
       "    }\n",
       "\n",
       "    .dataframe tbody tr th {\n",
       "        vertical-align: top;\n",
       "    }\n",
       "\n",
       "    .dataframe thead th {\n",
       "        text-align: right;\n",
       "    }\n",
       "</style>\n",
       "<table border=\"1\" class=\"dataframe\">\n",
       "  <thead>\n",
       "    <tr style=\"text-align: right;\">\n",
       "      <th></th>\n",
       "      <th>dominant_feature</th>\n",
       "      <th>per_domination</th>\n",
       "      <th>ingredients</th>\n",
       "    </tr>\n",
       "  </thead>\n",
       "  <tbody>\n",
       "    <tr>\n",
       "      <th>1</th>\n",
       "      <td>2</td>\n",
       "      <td>0.814</td>\n",
       "      <td>BCAA (leucine, isoleucine, valine), beta-alani...</td>\n",
       "    </tr>\n",
       "    <tr>\n",
       "      <th>2</th>\n",
       "      <td>0</td>\n",
       "      <td>0.984</td>\n",
       "      <td>Whey protein hydrolysate (milk), flavors, acid...</td>\n",
       "    </tr>\n",
       "    <tr>\n",
       "      <th>3</th>\n",
       "      <td>2</td>\n",
       "      <td>0.952</td>\n",
       "      <td>N-acetyl-l-tyrosine, acetyl-l-carnitine hydroc...</td>\n",
       "    </tr>\n",
       "    <tr>\n",
       "      <th>4</th>\n",
       "      <td>2</td>\n",
       "      <td>0.951</td>\n",
       "      <td>N-acetyl-l-tyrosine, acetyl-l-carnitine hydroc...</td>\n",
       "    </tr>\n",
       "    <tr>\n",
       "      <th>5</th>\n",
       "      <td>2</td>\n",
       "      <td>0.951</td>\n",
       "      <td>N-acetyl-l-tyrosine, acetyl-l-carnitine hydroc...</td>\n",
       "    </tr>\n",
       "  </tbody>\n",
       "</table>\n",
       "</div>"
      ],
      "text/plain": [
       "   dominant_feature  per_domination   \n",
       "1                 2           0.814  \\\n",
       "2                 0           0.984   \n",
       "3                 2           0.952   \n",
       "4                 2           0.951   \n",
       "5                 2           0.951   \n",
       "\n",
       "                                         ingredients  \n",
       "1  BCAA (leucine, isoleucine, valine), beta-alani...  \n",
       "2  Whey protein hydrolysate (milk), flavors, acid...  \n",
       "3  N-acetyl-l-tyrosine, acetyl-l-carnitine hydroc...  \n",
       "4  N-acetyl-l-tyrosine, acetyl-l-carnitine hydroc...  \n",
       "5  N-acetyl-l-tyrosine, acetyl-l-carnitine hydroc...  "
      ]
     },
     "execution_count": 162,
     "metadata": {},
     "output_type": "execute_result"
    }
   ],
   "source": [
    "final_df.head()"
   ]
  },
  {
   "cell_type": "code",
   "execution_count": 163,
   "id": "a0a8ab4f",
   "metadata": {},
   "outputs": [],
   "source": [
    "ingredient_stop_words = ['flavor', 'color', 'acid', 'sweetener', 'sugar', 'freshness', 'preservative', 'other ingredient', \n",
    "                         'less than', 'mineral', 'antioxidant', 'salt', 'water', 'sodium chloride', '5%',\n",
    "                         'sucrose', 'sucralose', 'acesulfame', 'fructose', 'stevia', 'monk fruit']\n",
    "\n",
    "def has_numbers(string):                           # a function to determine if the ingredient token has numbers\n",
    "    return any(char.isdigit() for char in string)\n",
    "\n",
    "# Build ingredients tokenizer + token cleaner\n",
    "def splitter_cleaner(line):\n",
    "    parens = 0\n",
    "    low = 0\n",
    "    high = 0\n",
    "    out = []\n",
    "    \n",
    "    for i, c in enumerate(line):\n",
    "        if c == '(':\n",
    "            parens += 1\n",
    "        elif c == ')':\n",
    "            parens -= 1\n",
    "            if parens < 0:\n",
    "                parens = 0\n",
    "        elif (c == ',' or c =='.') and parens == 0:\n",
    "            high = i\n",
    "            word = line[low:high].strip().lower()\n",
    "            in_stopwords = False\n",
    "            for w in ingredient_stop_words:\n",
    "                if w in word:\n",
    "                    in_stopwords = in_stopwords or True\n",
    "            if word!= None and (not in_stopwords) and (not has_numbers(word)):       \n",
    "                if word.startswith('l-'):            # remove 'l-' from 'l-amino acid'\n",
    "                    word = word[2:]                        \n",
    "                    out.append(word)\n",
    "                elif word.startswith('organic '):        # remove 'organic' from 'organic (ingredient)'\n",
    "                    word = word[8:] \n",
    "                    out.append(word)\n",
    "                elif word.endswith(' (bcaa)'):        # remove '(bcaa)' from 'amino aicd (bcaa)'\n",
    "                    word = word[:-7] \n",
    "                    out.append(word)\n",
    "                elif word.startswith('emulsifier ('):        # remove 'emulsifier ()' from 'emulsifier (...)'\n",
    "                    word = word[12:-1] \n",
    "                    out.append(word)\n",
    "                elif word.startswith('emulsifier: '):\n",
    "                    word = word[12:] \n",
    "                    out.append(word)\n",
    "                elif word.startswith('stabilizer ('):        # remove 'stabilizer ()' from 'stabilizer (...)'\n",
    "                    word = word[12:-1] \n",
    "                    out.append(word)\n",
    "                elif word.startswith('stabilizer: '):\n",
    "                    word = word[12:] \n",
    "                    out.append(word)\n",
    "                elif word.startswith('thickener ('):        # remove 'thickener ()' from 'thickener (...)'\n",
    "                    word = word[11:-1] \n",
    "                    out.append(word)    \n",
    "                elif word == 'pea protein isolate':        # combine the count of 'pea protein' and 'pea protein isolate'\n",
    "                    word = 'pea protein'\n",
    "                    out.append(word)    \n",
    "                out.append(word)\n",
    "            low = i + 1\n",
    "    \n",
    "    return out"
   ]
  },
  {
   "cell_type": "code",
   "execution_count": 164,
   "id": "edd13b37",
   "metadata": {},
   "outputs": [],
   "source": [
    "vectorizer = CountVectorizer(tokenizer = splitter_cleaner,\n",
    "                                    token_pattern = None,)"
   ]
  },
  {
   "cell_type": "code",
   "execution_count": 165,
   "id": "b8667ac7",
   "metadata": {},
   "outputs": [],
   "source": [
    "ingredients_vec = vectorizer.fit_transform(final_df['ingredients'])\n",
    "\n",
    "ingredients = vectorizer.get_feature_names_out()\n",
    "counts = np.array(np.sum(ingredients_vec, axis=0))\n",
    "\n",
    "ingredients_df = pd.DataFrame(zip(ingredients, counts[0]))\n",
    "ingredients_df.columns = ['ingredient', 'count']\n",
    "ingredients_df['frequency'] = ingredients_df['count'] / ingredients_df['count'].sum()"
   ]
  },
  {
   "cell_type": "code",
   "execution_count": 55,
   "id": "61121f16",
   "metadata": {
    "scrolled": true
   },
   "outputs": [
    {
     "data": {
      "text/html": [
       "<div>\n",
       "<style scoped>\n",
       "    .dataframe tbody tr th:only-of-type {\n",
       "        vertical-align: middle;\n",
       "    }\n",
       "\n",
       "    .dataframe tbody tr th {\n",
       "        vertical-align: top;\n",
       "    }\n",
       "\n",
       "    .dataframe thead th {\n",
       "        text-align: right;\n",
       "    }\n",
       "</style>\n",
       "<table border=\"1\" class=\"dataframe\">\n",
       "  <thead>\n",
       "    <tr style=\"text-align: right;\">\n",
       "      <th></th>\n",
       "      <th>ingredient</th>\n",
       "      <th>count</th>\n",
       "      <th>frequency</th>\n",
       "    </tr>\n",
       "  </thead>\n",
       "  <tbody>\n",
       "    <tr>\n",
       "      <th>6998</th>\n",
       "      <td>valine</td>\n",
       "      <td>1987</td>\n",
       "      <td>0.025760</td>\n",
       "    </tr>\n",
       "    <tr>\n",
       "      <th>3865</th>\n",
       "      <td>leucine</td>\n",
       "      <td>1909</td>\n",
       "      <td>0.024749</td>\n",
       "    </tr>\n",
       "    <tr>\n",
       "      <th>3615</th>\n",
       "      <td>isoleucine</td>\n",
       "      <td>1896</td>\n",
       "      <td>0.024581</td>\n",
       "    </tr>\n",
       "    <tr>\n",
       "      <th>6968</th>\n",
       "      <td>tyrosine</td>\n",
       "      <td>1665</td>\n",
       "      <td>0.021586</td>\n",
       "    </tr>\n",
       "    <tr>\n",
       "      <th>6505</th>\n",
       "      <td>sunflower lecithin</td>\n",
       "      <td>1557</td>\n",
       "      <td>0.020186</td>\n",
       "    </tr>\n",
       "    <tr>\n",
       "      <th>2906</th>\n",
       "      <td>gellan gum</td>\n",
       "      <td>1525</td>\n",
       "      <td>0.019771</td>\n",
       "    </tr>\n",
       "    <tr>\n",
       "      <th>4319</th>\n",
       "      <td>methionine</td>\n",
       "      <td>1510</td>\n",
       "      <td>0.019576</td>\n",
       "    </tr>\n",
       "    <tr>\n",
       "      <th>5075</th>\n",
       "      <td>phenylalanine</td>\n",
       "      <td>1477</td>\n",
       "      <td>0.019148</td>\n",
       "    </tr>\n",
       "    <tr>\n",
       "      <th>6920</th>\n",
       "      <td>tryptophan</td>\n",
       "      <td>1468</td>\n",
       "      <td>0.019032</td>\n",
       "    </tr>\n",
       "    <tr>\n",
       "      <th>6800</th>\n",
       "      <td>threonine</td>\n",
       "      <td>1390</td>\n",
       "      <td>0.018021</td>\n",
       "    </tr>\n",
       "    <tr>\n",
       "      <th>555</th>\n",
       "      <td>arginine</td>\n",
       "      <td>1380</td>\n",
       "      <td>0.017891</td>\n",
       "    </tr>\n",
       "    <tr>\n",
       "      <th>7448</th>\n",
       "      <td>xanthan gum</td>\n",
       "      <td>1333</td>\n",
       "      <td>0.017282</td>\n",
       "    </tr>\n",
       "    <tr>\n",
       "      <th>3404</th>\n",
       "      <td>histidine</td>\n",
       "      <td>1260</td>\n",
       "      <td>0.016335</td>\n",
       "    </tr>\n",
       "    <tr>\n",
       "      <th>3994</th>\n",
       "      <td>lysine</td>\n",
       "      <td>1206</td>\n",
       "      <td>0.015635</td>\n",
       "    </tr>\n",
       "    <tr>\n",
       "      <th>6523</th>\n",
       "      <td>sunflower oil</td>\n",
       "      <td>1138</td>\n",
       "      <td>0.014754</td>\n",
       "    </tr>\n",
       "    <tr>\n",
       "      <th>3067</th>\n",
       "      <td>glycine</td>\n",
       "      <td>1090</td>\n",
       "      <td>0.014131</td>\n",
       "    </tr>\n",
       "    <tr>\n",
       "      <th>3004</th>\n",
       "      <td>glutamine</td>\n",
       "      <td>1081</td>\n",
       "      <td>0.014015</td>\n",
       "    </tr>\n",
       "    <tr>\n",
       "      <th>5370</th>\n",
       "      <td>proline</td>\n",
       "      <td>1052</td>\n",
       "      <td>0.013639</td>\n",
       "    </tr>\n",
       "    <tr>\n",
       "      <th>4964</th>\n",
       "      <td>pea protein</td>\n",
       "      <td>992</td>\n",
       "      <td>0.012861</td>\n",
       "    </tr>\n",
       "    <tr>\n",
       "      <th>5958</th>\n",
       "      <td>serine</td>\n",
       "      <td>980</td>\n",
       "      <td>0.012705</td>\n",
       "    </tr>\n",
       "    <tr>\n",
       "      <th>2139</th>\n",
       "      <td>cysteine</td>\n",
       "      <td>874</td>\n",
       "      <td>0.011331</td>\n",
       "    </tr>\n",
       "    <tr>\n",
       "      <th>4140</th>\n",
       "      <td>maltodextrin</td>\n",
       "      <td>858</td>\n",
       "      <td>0.011123</td>\n",
       "    </tr>\n",
       "    <tr>\n",
       "      <th>1276</th>\n",
       "      <td>calcium carbonate</td>\n",
       "      <td>763</td>\n",
       "      <td>0.009892</td>\n",
       "    </tr>\n",
       "    <tr>\n",
       "      <th>6139</th>\n",
       "      <td>soy lecithin</td>\n",
       "      <td>615</td>\n",
       "      <td>0.007973</td>\n",
       "    </tr>\n",
       "    <tr>\n",
       "      <th>6661</th>\n",
       "      <td>taurine</td>\n",
       "      <td>592</td>\n",
       "      <td>0.007675</td>\n",
       "    </tr>\n",
       "    <tr>\n",
       "      <th>230</th>\n",
       "      <td>alanine</td>\n",
       "      <td>545</td>\n",
       "      <td>0.007066</td>\n",
       "    </tr>\n",
       "    <tr>\n",
       "      <th>3232</th>\n",
       "      <td>guar gum</td>\n",
       "      <td>535</td>\n",
       "      <td>0.006936</td>\n",
       "    </tr>\n",
       "    <tr>\n",
       "      <th>1701</th>\n",
       "      <td>citrulline</td>\n",
       "      <td>492</td>\n",
       "      <td>0.006379</td>\n",
       "    </tr>\n",
       "    <tr>\n",
       "      <th>3547</th>\n",
       "      <td>inulin</td>\n",
       "      <td>460</td>\n",
       "      <td>0.005964</td>\n",
       "    </tr>\n",
       "    <tr>\n",
       "      <th>1776</th>\n",
       "      <td>cocoa powder</td>\n",
       "      <td>418</td>\n",
       "      <td>0.005419</td>\n",
       "    </tr>\n",
       "    <tr>\n",
       "      <th>869</th>\n",
       "      <td>beta-alanine</td>\n",
       "      <td>409</td>\n",
       "      <td>0.005302</td>\n",
       "    </tr>\n",
       "    <tr>\n",
       "      <th>438</th>\n",
       "      <td>anti-caking agent (silicon dioxide)</td>\n",
       "      <td>346</td>\n",
       "      <td>0.004486</td>\n",
       "    </tr>\n",
       "    <tr>\n",
       "      <th>6878</th>\n",
       "      <td>tricalcium phosphate</td>\n",
       "      <td>346</td>\n",
       "      <td>0.004486</td>\n",
       "    </tr>\n",
       "    <tr>\n",
       "      <th>6683</th>\n",
       "      <td>theanine</td>\n",
       "      <td>330</td>\n",
       "      <td>0.004278</td>\n",
       "    </tr>\n",
       "    <tr>\n",
       "      <th>5255</th>\n",
       "      <td>potassium citrate</td>\n",
       "      <td>325</td>\n",
       "      <td>0.004213</td>\n",
       "    </tr>\n",
       "    <tr>\n",
       "      <th>7227</th>\n",
       "      <td>vitamin d</td>\n",
       "      <td>312</td>\n",
       "      <td>0.004045</td>\n",
       "    </tr>\n",
       "    <tr>\n",
       "      <th>1172</th>\n",
       "      <td>caffeine</td>\n",
       "      <td>303</td>\n",
       "      <td>0.003928</td>\n",
       "    </tr>\n",
       "    <tr>\n",
       "      <th>6061</th>\n",
       "      <td>sodium citrate</td>\n",
       "      <td>297</td>\n",
       "      <td>0.003850</td>\n",
       "    </tr>\n",
       "    <tr>\n",
       "      <th>5999</th>\n",
       "      <td>silicon dioxide</td>\n",
       "      <td>294</td>\n",
       "      <td>0.003812</td>\n",
       "    </tr>\n",
       "    <tr>\n",
       "      <th>2090</th>\n",
       "      <td>creatine monohydrate</td>\n",
       "      <td>293</td>\n",
       "      <td>0.003799</td>\n",
       "    </tr>\n",
       "    <tr>\n",
       "      <th>1196</th>\n",
       "      <td>caffeine anhydrous</td>\n",
       "      <td>268</td>\n",
       "      <td>0.003474</td>\n",
       "    </tr>\n",
       "    <tr>\n",
       "      <th>1714</th>\n",
       "      <td>citrulline malate</td>\n",
       "      <td>264</td>\n",
       "      <td>0.003423</td>\n",
       "    </tr>\n",
       "    <tr>\n",
       "      <th>5252</th>\n",
       "      <td>potassium chloride</td>\n",
       "      <td>247</td>\n",
       "      <td>0.003202</td>\n",
       "    </tr>\n",
       "    <tr>\n",
       "      <th>4096</th>\n",
       "      <td>magnesium citrate</td>\n",
       "      <td>225</td>\n",
       "      <td>0.002917</td>\n",
       "    </tr>\n",
       "    <tr>\n",
       "      <th>3946</th>\n",
       "      <td>locust bean gum</td>\n",
       "      <td>222</td>\n",
       "      <td>0.002878</td>\n",
       "    </tr>\n",
       "    <tr>\n",
       "      <th>5579</th>\n",
       "      <td>pyridoxine hydrochloride</td>\n",
       "      <td>215</td>\n",
       "      <td>0.002787</td>\n",
       "    </tr>\n",
       "    <tr>\n",
       "      <th>7359</th>\n",
       "      <td>whey protein concentrate (milk)</td>\n",
       "      <td>204</td>\n",
       "      <td>0.002645</td>\n",
       "    </tr>\n",
       "    <tr>\n",
       "      <th>5621</th>\n",
       "      <td>rapeseed oil</td>\n",
       "      <td>200</td>\n",
       "      <td>0.002593</td>\n",
       "    </tr>\n",
       "    <tr>\n",
       "      <th>7240</th>\n",
       "      <td>vitamin e</td>\n",
       "      <td>190</td>\n",
       "      <td>0.002463</td>\n",
       "    </tr>\n",
       "    <tr>\n",
       "      <th>7219</th>\n",
       "      <td>vitamin c</td>\n",
       "      <td>187</td>\n",
       "      <td>0.002424</td>\n",
       "    </tr>\n",
       "    <tr>\n",
       "      <th>2131</th>\n",
       "      <td>cyanocobalamin</td>\n",
       "      <td>175</td>\n",
       "      <td>0.002269</td>\n",
       "    </tr>\n",
       "    <tr>\n",
       "      <th>2234</th>\n",
       "      <td>dextrose</td>\n",
       "      <td>174</td>\n",
       "      <td>0.002256</td>\n",
       "    </tr>\n",
       "    <tr>\n",
       "      <th>2638</th>\n",
       "      <td>fat-reduced cocoa powder</td>\n",
       "      <td>172</td>\n",
       "      <td>0.002230</td>\n",
       "    </tr>\n",
       "    <tr>\n",
       "      <th>2144</th>\n",
       "      <td>cystine</td>\n",
       "      <td>171</td>\n",
       "      <td>0.002217</td>\n",
       "    </tr>\n",
       "    <tr>\n",
       "      <th>1438</th>\n",
       "      <td>carrageenan</td>\n",
       "      <td>165</td>\n",
       "      <td>0.002139</td>\n",
       "    </tr>\n",
       "    <tr>\n",
       "      <th>7518</th>\n",
       "      <td>zinc gluconate</td>\n",
       "      <td>165</td>\n",
       "      <td>0.002139</td>\n",
       "    </tr>\n",
       "    <tr>\n",
       "      <th>5797</th>\n",
       "      <td>rice protein</td>\n",
       "      <td>165</td>\n",
       "      <td>0.002139</td>\n",
       "    </tr>\n",
       "    <tr>\n",
       "      <th>7193</th>\n",
       "      <td>vitamin a</td>\n",
       "      <td>156</td>\n",
       "      <td>0.002022</td>\n",
       "    </tr>\n",
       "    <tr>\n",
       "      <th>5768</th>\n",
       "      <td>riboflavin</td>\n",
       "      <td>155</td>\n",
       "      <td>0.002009</td>\n",
       "    </tr>\n",
       "    <tr>\n",
       "      <th>2364</th>\n",
       "      <td>dipotassium phosphate</td>\n",
       "      <td>149</td>\n",
       "      <td>0.001932</td>\n",
       "    </tr>\n",
       "  </tbody>\n",
       "</table>\n",
       "</div>"
      ],
      "text/plain": [
       "                               ingredient  count  frequency\n",
       "6998                               valine   1987   0.025760\n",
       "3865                              leucine   1909   0.024749\n",
       "3615                           isoleucine   1896   0.024581\n",
       "6968                             tyrosine   1665   0.021586\n",
       "6505                   sunflower lecithin   1557   0.020186\n",
       "2906                           gellan gum   1525   0.019771\n",
       "4319                           methionine   1510   0.019576\n",
       "5075                        phenylalanine   1477   0.019148\n",
       "6920                           tryptophan   1468   0.019032\n",
       "6800                            threonine   1390   0.018021\n",
       "555                              arginine   1380   0.017891\n",
       "7448                          xanthan gum   1333   0.017282\n",
       "3404                            histidine   1260   0.016335\n",
       "3994                               lysine   1206   0.015635\n",
       "6523                        sunflower oil   1138   0.014754\n",
       "3067                              glycine   1090   0.014131\n",
       "3004                            glutamine   1081   0.014015\n",
       "5370                              proline   1052   0.013639\n",
       "4964                          pea protein    992   0.012861\n",
       "5958                               serine    980   0.012705\n",
       "2139                             cysteine    874   0.011331\n",
       "4140                         maltodextrin    858   0.011123\n",
       "1276                    calcium carbonate    763   0.009892\n",
       "6139                         soy lecithin    615   0.007973\n",
       "6661                              taurine    592   0.007675\n",
       "230                               alanine    545   0.007066\n",
       "3232                             guar gum    535   0.006936\n",
       "1701                           citrulline    492   0.006379\n",
       "3547                               inulin    460   0.005964\n",
       "1776                         cocoa powder    418   0.005419\n",
       "869                          beta-alanine    409   0.005302\n",
       "438   anti-caking agent (silicon dioxide)    346   0.004486\n",
       "6878                 tricalcium phosphate    346   0.004486\n",
       "6683                             theanine    330   0.004278\n",
       "5255                    potassium citrate    325   0.004213\n",
       "7227                            vitamin d    312   0.004045\n",
       "1172                             caffeine    303   0.003928\n",
       "6061                       sodium citrate    297   0.003850\n",
       "5999                      silicon dioxide    294   0.003812\n",
       "2090                 creatine monohydrate    293   0.003799\n",
       "1196                   caffeine anhydrous    268   0.003474\n",
       "1714                    citrulline malate    264   0.003423\n",
       "5252                   potassium chloride    247   0.003202\n",
       "4096                    magnesium citrate    225   0.002917\n",
       "3946                      locust bean gum    222   0.002878\n",
       "5579             pyridoxine hydrochloride    215   0.002787\n",
       "7359      whey protein concentrate (milk)    204   0.002645\n",
       "5621                         rapeseed oil    200   0.002593\n",
       "7240                            vitamin e    190   0.002463\n",
       "7219                            vitamin c    187   0.002424\n",
       "2131                       cyanocobalamin    175   0.002269\n",
       "2234                             dextrose    174   0.002256\n",
       "2638             fat-reduced cocoa powder    172   0.002230\n",
       "2144                              cystine    171   0.002217\n",
       "1438                          carrageenan    165   0.002139\n",
       "7518                       zinc gluconate    165   0.002139\n",
       "5797                         rice protein    165   0.002139\n",
       "7193                            vitamin a    156   0.002022\n",
       "5768                           riboflavin    155   0.002009\n",
       "2364                dipotassium phosphate    149   0.001932"
      ]
     },
     "execution_count": 55,
     "metadata": {},
     "output_type": "execute_result"
    }
   ],
   "source": [
    "ingredients_df.sort_values(by = 'frequency', ascending = False)[:60]"
   ]
  },
  {
   "cell_type": "code",
   "execution_count": 167,
   "id": "40c2ee23",
   "metadata": {},
   "outputs": [],
   "source": [
    "from sklearn.feature_extraction.text import TfidfVectorizer\n",
    "from sklearn.naive_bayes import MultinomialNB\n",
    "from sklearn.model_selection import GridSearchCV\n",
    "from sklearn.pipeline import Pipeline\n",
    "\n",
    "idf_vectorizer = TfidfVectorizer(tokenizer = splitter_cleaner,\n",
    "                                    token_pattern = None,\n",
    "                                    min_df = 2,\n",
    "                                    max_df = 0.95)\n",
    "\n",
    "optimize_pipe = Pipeline([('idf_vectorizer', idf_vectorizer),\n",
    "                 ('classifier', MultinomialNB())    \n",
    "                ])\n",
    "\n",
    "# Use cross validation to optimize the hyper parameters\n",
    "best_alpha = GridSearchCV(optimize_pipe, {'classifier__alpha': [0.01, 0.02, 0.05, 0.1]}, cv = 5, n_jobs = -1)\n",
    "\n",
    "results = best_alpha.fit(final_df['ingredients'], final_df['dominant_feature'])"
   ]
  },
  {
   "cell_type": "code",
   "execution_count": null,
   "id": "8a1607cf",
   "metadata": {},
   "outputs": [],
   "source": [
    "# Identified the optimal hyper parameters\n",
    "results.best_score_, results.best_params_"
   ]
  },
  {
   "cell_type": "code",
   "execution_count": 169,
   "id": "6192f2a7",
   "metadata": {},
   "outputs": [],
   "source": [
    "vectorizer = TfidfVectorizer(tokenizer = splitter_cleaner,\n",
    "                                    token_pattern = None,\n",
    "                                    min_df = 5,\n",
    "                                    max_df = 0.95)\n",
    "bag_of_words = vectorizer.fit_transform(final_df['ingredients'])\n",
    "classifier = MultinomialNB(alpha=0.05)\n",
    "ingredients_model = classifier.fit(bag_of_words, final_df['dominant_feature'])\n",
    "\n",
    "popular_ingredients = pd.DataFrame((zip(vectorizer.get_feature_names_out(), ingredients_model.feature_log_prob_[0],\n",
    "                                        ingredients_model.feature_log_prob_[1], ingredients_model.feature_log_prob_[2])))\n",
    "popular_ingredients.columns = ['ingredients', 'feature_1', 'feature_2', 'feature_3']"
   ]
  },
  {
   "cell_type": "code",
   "execution_count": 170,
   "id": "127e1bcc",
   "metadata": {
    "scrolled": true
   },
   "outputs": [
    {
     "data": {
      "text/html": [
       "<div>\n",
       "<style scoped>\n",
       "    .dataframe tbody tr th:only-of-type {\n",
       "        vertical-align: middle;\n",
       "    }\n",
       "\n",
       "    .dataframe tbody tr th {\n",
       "        vertical-align: top;\n",
       "    }\n",
       "\n",
       "    .dataframe thead th {\n",
       "        text-align: right;\n",
       "    }\n",
       "</style>\n",
       "<table border=\"1\" class=\"dataframe\">\n",
       "  <thead>\n",
       "    <tr style=\"text-align: right;\">\n",
       "      <th></th>\n",
       "      <th>ingredients</th>\n",
       "      <th>feature_1</th>\n",
       "      <th>feature_2</th>\n",
       "      <th>feature_3</th>\n",
       "    </tr>\n",
       "  </thead>\n",
       "  <tbody>\n",
       "    <tr>\n",
       "      <th>0</th>\n",
       "      <td></td>\n",
       "      <td>-8.739977</td>\n",
       "      <td>-9.295941</td>\n",
       "      <td>-9.175859</td>\n",
       "    </tr>\n",
       "    <tr>\n",
       "      <th>1</th>\n",
       "      <td>(aquamin)</td>\n",
       "      <td>-11.919870</td>\n",
       "      <td>-9.651244</td>\n",
       "      <td>-8.393839</td>\n",
       "    </tr>\n",
       "    <tr>\n",
       "      <th>2</th>\n",
       "      <td>(l-leucine, l-isoleucine, l-valine)]</td>\n",
       "      <td>-7.948806</td>\n",
       "      <td>-11.794488</td>\n",
       "      <td>-11.639113</td>\n",
       "    </tr>\n",
       "    <tr>\n",
       "      <th>3</th>\n",
       "      <td>acacia</td>\n",
       "      <td>-11.919870</td>\n",
       "      <td>-7.953933</td>\n",
       "      <td>-7.414200</td>\n",
       "    </tr>\n",
       "    <tr>\n",
       "      <th>4</th>\n",
       "      <td>acacia fiber</td>\n",
       "      <td>-7.482431</td>\n",
       "      <td>-6.042397</td>\n",
       "      <td>-7.800635</td>\n",
       "    </tr>\n",
       "  </tbody>\n",
       "</table>\n",
       "</div>"
      ],
      "text/plain": [
       "                            ingredients  feature_1  feature_2  feature_3\n",
       "0                                        -8.739977  -9.295941  -9.175859\n",
       "1                             (aquamin) -11.919870  -9.651244  -8.393839\n",
       "2  (l-leucine, l-isoleucine, l-valine)]  -7.948806 -11.794488 -11.639113\n",
       "3                                acacia -11.919870  -7.953933  -7.414200\n",
       "4                          acacia fiber  -7.482431  -6.042397  -7.800635"
      ]
     },
     "execution_count": 170,
     "metadata": {},
     "output_type": "execute_result"
    }
   ],
   "source": [
    "popular_ingredients.head()"
   ]
  },
  {
   "cell_type": "code",
   "execution_count": 180,
   "id": "97ccc548",
   "metadata": {},
   "outputs": [
    {
     "data": {
      "text/plain": [
       "'xanthan gum, valine, leucine, isoleucine, methionine, tryptophan, threonine, phenylalanine, histidine, lysine, arginine, proline, glycine, serine, tyrosine, sunflower lecithin, soy lecithin, cysteine, pea protein, glutamine, alanine, inulin, cocoa powder, maltodextrin, whey protein concentrate (milk)'"
      ]
     },
     "execution_count": 180,
     "metadata": {},
     "output_type": "execute_result"
    }
   ],
   "source": [
    "Feature_1_ingredients = popular_ingredients.sort_values(by=['feature_1'], ascending=False)['ingredients'][:25].tolist()\n",
    "string = ', '.join(Feature_1_ingredients)\n",
    "string"
   ]
  },
  {
   "cell_type": "code",
   "execution_count": 181,
   "id": "66e5182c",
   "metadata": {},
   "outputs": [
    {
     "data": {
      "text/plain": [
       "'gellan gum, sunflower oil, sunflower lecithin, calcium carbonate, tricalcium phosphate, vitamin d, pea protein, rapeseed oil, guar gum, locust bean gum, maltodextrin, xanthan gum, dipotassium phosphate, calcium phosphate, calcium, vitamin e, vitamin a palmitate, gellan, vitamin a, carrageenan, cocoa powder, almonds, inulin, zinc gluconate, potassium citrate'"
      ]
     },
     "execution_count": 181,
     "metadata": {},
     "output_type": "execute_result"
    }
   ],
   "source": [
    "Feature_2_ingredients = popular_ingredients.sort_values(by=['feature_2'], ascending=False)['ingredients'][:25].tolist()\n",
    "string = ', '.join(Feature_2_ingredients)\n",
    "string"
   ]
  },
  {
   "cell_type": "code",
   "execution_count": 182,
   "id": "39eeef0f",
   "metadata": {},
   "outputs": [
    {
     "data": {
      "text/plain": [
       "'taurine, tyrosine, isoleucine, valine, citrulline, leucine, maltodextrin, silicon dioxide, beta-alanine, glutamine, theanine, sodium citrate, citrulline malate, creatine monohydrate, potassium citrate, caffeine, caffeine anhydrous, arginine, cluster dextrin (maltodextrin), anti-caking agent (silicon dioxide), sunflower lecithin, palatinose (isomaltulose), potassium chloride, magnesium citrate, calcium silicate, phenylalanine, tryptophan, dextrose, xanthan gum, threonine'"
      ]
     },
     "execution_count": 182,
     "metadata": {},
     "output_type": "execute_result"
    }
   ],
   "source": [
    "Feature_3_ingredients = popular_ingredients.sort_values(by=['feature_3'], ascending=False)['ingredients'][:30].tolist()\n",
    "string = ', '.join(Feature_3_ingredients)\n",
    "string"
   ]
  },
  {
   "cell_type": "markdown",
   "id": "e54c59a4",
   "metadata": {},
   "source": [
    "### Appendix: Topic modeling of 'Product features/claims' by K-means clustering method - Not implemented for this project, but shown here to demonstrate another approach for topic modeling."
   ]
  },
  {
   "cell_type": "code",
   "execution_count": null,
   "id": "f7bba8d7",
   "metadata": {},
   "outputs": [],
   "source": [
    "import spacy\n",
    "nlp = spacy.load('en_core_web_sm', disable=['parser','ner','textcat'])\n",
    "\n",
    "# lemmatizer was not used here as it created issues\n",
    "def my_tokenizer(doc):                                             # Build custom tokenizer\n",
    "    return ' '.join(re.findall(r'\\b\\D[a-zA-Z\\'\\/\\-]*\\b', doc)).lower().split()\n",
    "\n",
    "stopwords = spacy.lang.en.stop_words.STOP_WORDS                     \n",
    "#stopwords = stopwords.difference({'he','his','her','hers'}) # Removing a few words that don't lemmatize well\n",
    "stopwords.update(['v', 'l', 'mg', 'base', 'free', 'pre', 'add', 'serve', 'beta', 'contain', '.',\n",
    "                 'd', 'll', 'm', 'n', 's', 've', '‘t', '’t', 't', ':']) # Customize the stopwords\n",
    "  "
   ]
  },
  {
   "cell_type": "code",
   "execution_count": null,
   "id": "04272adc",
   "metadata": {},
   "outputs": [],
   "source": [
    "# Vectorize the text and determine weight of the tokens\n",
    "from sklearn.feature_extraction.text import CountVectorizer, TfidfTransformer\n",
    "import numpy as np\n",
    "\n",
    "max_features = 2000\n",
    "\n",
    "vectorizer = CountVectorizer(tokenizer=my_tokenizer, stop_words=list(stopwords),\n",
    "                             #ngram_range=(1,2),\n",
    "                             min_df=2, max_df=0.95, max_features=max_features,\n",
    "                             token_pattern=None)\n",
    "counts = vectorizer.fit_transform(product_features['Claims/Features'])\n",
    "\n",
    "idf = TfidfTransformer()\n",
    "idf_matrix = idf.fit_transform(counts)"
   ]
  },
  {
   "cell_type": "code",
   "execution_count": null,
   "id": "359eee76",
   "metadata": {},
   "outputs": [],
   "source": [
    "words = vectorizer.get_feature_names_out()\n",
    "print('g' in words)  "
   ]
  },
  {
   "cell_type": "code",
   "execution_count": null,
   "id": "ab809e0e",
   "metadata": {},
   "outputs": [],
   "source": [
    "# Determine clusters of product features/claims using K-means clustering\n",
    "number_of_clusters = 5\n",
    "\n",
    "kmc_5 = KMeans(n_clusters=number_of_clusters, n_init=3, random_state=117)  # random_state for consistency\n",
    "kmc_5.fit(idf_matrix)"
   ]
  },
  {
   "cell_type": "code",
   "execution_count": null,
   "id": "34fcd7b3",
   "metadata": {},
   "outputs": [],
   "source": [
    "# Check list of words for each cluster\n",
    "\n",
    "number_of_top_words = 10\n",
    "\n",
    "cluster_words = np.argsort(kmc_5.cluster_centers_, axis=1)\n",
    "words = vectorizer.get_feature_names_out()\n",
    "\n",
    "top_words = set()\n",
    "\n",
    "for i in range(number_of_clusters):\n",
    "    print(f'Cluster {i}: ')\n",
    "    print(', '.join([words[k] for k in cluster_words[i][-number_of_top_words:]]),'\\n')\n",
    "    top_words = top_words.union([words[k] for k in cluster_words[i][-number_of_top_words:]])\n",
    "    \n",
    "top_words = sorted(list(top_words))"
   ]
  },
  {
   "cell_type": "code",
   "execution_count": null,
   "id": "cf5e483f",
   "metadata": {
    "scrolled": true
   },
   "outputs": [],
   "source": [
    "# Check scores of different numbers of clustering\n",
    "words = vectorizer.get_feature_names_out()\n",
    "word_df = pd.DataFrame()\n",
    "\n",
    "for n in range(2, 16):\n",
    "    kmc = KMeans(n_clusters=n, n_init=3, random_state=117)  # random_state for consistency\n",
    "    kmc.fit(idf_matrix)\n",
    "    word_df['Cluster'] = pd.DataFrame(kmc.labels_.tolist())\n",
    "    print(f'Clusters: {n}  Silhouette score: {silhouette_score(idf_matrix, word_df[\"Cluster\"])}')"
   ]
  },
  {
   "cell_type": "code",
   "execution_count": null,
   "id": "d229dc0a",
   "metadata": {},
   "outputs": [],
   "source": [
    "# Check top words of Cluster 3 and 10, based on the silhouette scores and consideration of manageable amount of clusters\n",
    "\n",
    "from sklearn.cluster import KMeans\n",
    "from sklearn.metrics import silhouette_score\n",
    "\n",
    "kmc_3 = KMeans(n_clusters=3, n_init=3, random_state=117) \n",
    "kmc_3.fit(idf_matrix)\n",
    "\n",
    "number_of_top_words = 20\n",
    "\n",
    "cluster_words = np.argsort(kmc_3.cluster_centers_, axis=1)\n",
    "words = vectorizer.get_feature_names_out()\n",
    "\n",
    "top_words = set()\n",
    "\n",
    "for i in range(3):\n",
    "    print(f'Cluster {i}: ')\n",
    "    print(', '.join([words[k] for k in cluster_words[i][-number_of_top_words:]]),'\\n')\n",
    "    top_words = top_words.union([words[k] for k in cluster_words[i][-number_of_top_words:]])\n",
    "    \n",
    "top_words_3_clusters = sorted(list(top_words))"
   ]
  },
  {
   "cell_type": "code",
   "execution_count": null,
   "id": "abe1d46e",
   "metadata": {},
   "outputs": [],
   "source": [
    "# Size of clusters for 3-Cluster model\n",
    "\n",
    "word_df_3 = pd.DataFrame(counts.toarray(), columns=words)[top_words_3_clusters]\n",
    "word_df_3['Cluster'] = kmc_3.labels_.tolist()\n",
    "\n",
    "word_df_3.groupby('Cluster').count()[top_words_3_clusters[0]].\\\n",
    "    plot.bar(rot=0).\\\n",
    "    set(ylabel='Product count',\n",
    "    title='Number of Products per Cluster');"
   ]
  },
  {
   "cell_type": "code",
   "execution_count": null,
   "id": "d45c96e6",
   "metadata": {},
   "outputs": [],
   "source": [
    "kmc_10 = KMeans(n_clusters=10, n_init=3, random_state=117)  # random_state for consistency\n",
    "kmc_10.fit(idf_matrix)\n",
    "\n",
    "number_of_top_words = 10\n",
    "\n",
    "cluster_words = np.argsort(kmc_10.cluster_centers_, axis=1)\n",
    "words = vectorizer.get_feature_names_out()\n",
    "\n",
    "top_words = set()\n",
    "\n",
    "for i in range(10):\n",
    "    print(f'Cluster {i}: ')\n",
    "    print(', '.join([words[k] for k in cluster_words[i][-number_of_top_words:]]),'\\n')\n",
    "    top_words = top_words.union([words[k] for k in cluster_words[i][-number_of_top_words:]])\n",
    "    \n",
    "top_words_10_clusters = sorted(list(top_words))"
   ]
  },
  {
   "cell_type": "code",
   "execution_count": null,
   "id": "0a79d607",
   "metadata": {
    "scrolled": true
   },
   "outputs": [],
   "source": [
    "# Size of clusters for 10-Cluster model\n",
    "\n",
    "word_df_10 = pd.DataFrame(counts.toarray(), columns=words)[top_words_10_clusters]\n",
    "word_df_10['Cluster'] = kmc_10.labels_.tolist()\n",
    "\n",
    "word_df_10.groupby('Cluster').count()[top_words_10_clusters[0]].\\\n",
    "    plot.bar(rot=0).\\\n",
    "    set(ylabel='Product count',\n",
    "    title='Number of Products per Cluster');"
   ]
  }
 ],
 "metadata": {
  "kernelspec": {
   "display_name": "Python 3 (ipykernel)",
   "language": "python",
   "name": "python3"
  },
  "language_info": {
   "codemirror_mode": {
    "name": "ipython",
    "version": 3
   },
   "file_extension": ".py",
   "mimetype": "text/x-python",
   "name": "python",
   "nbconvert_exporter": "python",
   "pygments_lexer": "ipython3",
   "version": "3.9.12"
  }
 },
 "nbformat": 4,
 "nbformat_minor": 5
}
