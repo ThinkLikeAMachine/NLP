{
 "cells": [
  {
   "cell_type": "markdown",
   "id": "e24c67e2",
   "metadata": {},
   "source": [
    "## Understand and process the raw data from InnovaDatabase \n",
    "### Remove columns with duplicate information or too many nulls; Remove duplicate data"
   ]
  },
  {
   "cell_type": "code",
   "execution_count": 2,
   "id": "ebbbfb9c",
   "metadata": {},
   "outputs": [],
   "source": [
    "import pandas as pd\n",
    "import numpy as np\n",
    "import matplotlib.pyplot as plt\n",
    "import seaborn as sns\n",
    "sns.set()\n",
    "import re"
   ]
  },
  {
   "cell_type": "code",
   "execution_count": 183,
   "id": "040c1aec",
   "metadata": {},
   "outputs": [
    {
     "name": "stdout",
     "output_type": "stream",
     "text": [
      "^C\n"
     ]
    }
   ],
   "source": [
    "import streamlit as st\n",
    "\n",
    "!streamlit run app.py"
   ]
  },
  {
   "cell_type": "code",
   "execution_count": null,
   "id": "18ffd026",
   "metadata": {},
   "outputs": [],
   "source": [
    "df_excel = pd.read_excel('protein_beverages_and_sport_drinks.xls', sheet_name = 'Innova', dtype={'Product Id':str})"
   ]
  },
  {
   "cell_type": "code",
   "execution_count": null,
   "id": "433a676f",
   "metadata": {},
   "outputs": [],
   "source": [
    "df_excel.info()"
   ]
  },
  {
   "cell_type": "code",
   "execution_count": null,
   "id": "dffec17e",
   "metadata": {},
   "outputs": [],
   "source": [
    "df_raw = df_excel.drop(columns=['S.No.', 'Produced in','Product Base','Alcohol By Volume','US Price','Us Price/Count','Category',\n",
    "                                'Ingredient searched','Product Comments','Texture','Online Store','Manufactured by','Format',\n",
    "                                'View Details','Whole Packweight(kg/ltr)','Whole Packweight(g/ml)','Protein (g per 100g)',\n",
    "                                 'Pack Weight(kg/ltr)','US Price/Pound','Quantity','Company Country','Distributed In'])"
   ]
  },
  {
   "cell_type": "code",
   "execution_count": null,
   "id": "acd9d2b6",
   "metadata": {
    "scrolled": true
   },
   "outputs": [],
   "source": [
    "df_raw.info()"
   ]
  },
  {
   "cell_type": "code",
   "execution_count": null,
   "id": "fcc29f47",
   "metadata": {},
   "outputs": [],
   "source": [
    "raw_data = df_raw.drop_duplicates(subset = ['Product Id','Company','Product Name'])"
   ]
  },
  {
   "cell_type": "code",
   "execution_count": null,
   "id": "21d4a6fd",
   "metadata": {},
   "outputs": [],
   "source": [
    "import dill\n",
    "with open('raw_data.pkd', 'wb') as r:\n",
    "    dill.dump(raw_data, r)"
   ]
  },
  {
   "cell_type": "code",
   "execution_count": 3,
   "id": "e0a941e3",
   "metadata": {},
   "outputs": [],
   "source": [
    "import dill\n",
    "with open('raw_data.pkd', 'rb') as r:\n",
    "    data_raw = dill.load(r)"
   ]
  },
  {
   "cell_type": "code",
   "execution_count": null,
   "id": "fe0c158f",
   "metadata": {},
   "outputs": [],
   "source": [
    "data_raw.info()"
   ]
  },
  {
   "cell_type": "markdown",
   "id": "89432f7c",
   "metadata": {
    "scrolled": true
   },
   "source": [
    "### Remove 'fake' New Products\n",
    "Product 'event', such as \"import\", \"shelf snapshots\", and \"new package\", are not really New Product Launch, which are removed from the dataset."
   ]
  },
  {
   "cell_type": "code",
   "execution_count": null,
   "id": "f135cd26",
   "metadata": {},
   "outputs": [],
   "source": [
    "data_raw['Event'].value_counts()"
   ]
  },
  {
   "cell_type": "code",
   "execution_count": 4,
   "id": "b6aef22b",
   "metadata": {},
   "outputs": [
    {
     "name": "stdout",
     "output_type": "stream",
     "text": [
      "<class 'pandas.core.frame.DataFrame'>\n",
      "Index: 11443 entries, 0 to 19239\n",
      "Data columns (total 24 columns):\n",
      " #   Column                   Non-Null Count  Dtype  \n",
      "---  ------                   --------------  -----  \n",
      " 0   Product Id               11443 non-null  object \n",
      " 1   Company                  11443 non-null  object \n",
      " 2   Event Date               11443 non-null  object \n",
      " 3   Event                    11443 non-null  object \n",
      " 4   Subcategory              11443 non-null  object \n",
      " 5   Private Label            11443 non-null  object \n",
      " 6   Region                   11443 non-null  object \n",
      " 7   Country                  11443 non-null  object \n",
      " 8   Brand                    11443 non-null  object \n",
      " 9   Product Name             11443 non-null  object \n",
      " 10  Description              11443 non-null  object \n",
      " 11  Claims/Features          11440 non-null  object \n",
      " 12  Extra Notes              10137 non-null  object \n",
      " 13  Positioning Category     11442 non-null  object \n",
      " 14  Positioning Subcategory  11442 non-null  object \n",
      " 15  Flavors                  11433 non-null  object \n",
      " 16  Ingredients              11129 non-null  object \n",
      " 17  Nutrition Details        11085 non-null  object \n",
      " 18  US Price/kg              5910 non-null   float64\n",
      " 19  US Price/Litre           3462 non-null   float64\n",
      " 20  Energy (kcal)            7578 non-null   float64\n",
      " 21  Pack Weight(g/ml)        11199 non-null  float64\n",
      " 22  Ingredients Count        11443 non-null  int64  \n",
      " 23  Shelving Details         11443 non-null  object \n",
      "dtypes: float64(4), int64(1), object(19)\n",
      "memory usage: 2.2+ MB\n"
     ]
    }
   ],
   "source": [
    "new_product_data = data_raw[(data_raw['Event'] == 'New Product') | (data_raw['Event'] == 'Reformulation')]\n",
    "new_product_data.info()"
   ]
  },
  {
   "cell_type": "markdown",
   "id": "77d1ac9d",
   "metadata": {},
   "source": [
    "#### Filter out the \"fake\" vegan products -- Not implemented"
   ]
  },
  {
   "cell_type": "code",
   "execution_count": null,
   "id": "716710cd",
   "metadata": {},
   "outputs": [],
   "source": [
    "alarm_words = ['whey', 'milk protein', 'milk powder', 'milk concentrate', 'skimmed milk', 'skim milk', 'powdered milk',\n",
    "               'powder milk', 'cow milk', 'casein', 'caseinate', 'condensed milk']\n",
    "# example_token = 'skim milk protein(from cow milk)'\n",
    "\n",
    "def fake_vegan(tokens):\n",
    "    for token in tokens:\n",
    "        for w in alarm_words:\n",
    "            if w in token:\n",
    "                return True\n",
    "                break\n",
    "    return False\n",
    "\n",
    "ingredients = data_raw['Ingredients'].str.lower().str.split(',')\n"
   ]
  },
  {
   "cell_type": "markdown",
   "id": "385fe10a",
   "metadata": {},
   "source": [
    "### Build tokenizers to fit the patterns of different text\n",
    "\n",
    "Remove ingredients that are flavors, colors, acidity regulators, sweeteners, preservatives, vitamins, minerals, etc, which don't necessarily contribute to the claims of 'dairy alternative' or 'plant based', but at the same time, may occur at a high frequency and impact analysis."
   ]
  },
  {
   "cell_type": "code",
   "execution_count": 5,
   "id": "a5d97156",
   "metadata": {},
   "outputs": [],
   "source": [
    "import re\n",
    "\n",
    "# positioning tokenizer\n",
    "def positioning_tokenizer(text):\n",
    "    return [t.strip() for t in text.split(',')]"
   ]
  },
  {
   "cell_type": "code",
   "execution_count": 5,
   "id": "02dd01bd",
   "metadata": {},
   "outputs": [],
   "source": [
    "ingredient_stop_words = ['flavor', 'color', 'acid', 'sweetener', 'freshness', 'preservative', 'other ingredient', 'less than',\n",
    "                  'mineral', 'antioxidant']\n",
    "\n",
    "# ingredients tokenizer\n",
    "def splitter_cleaner(line):\n",
    "    parens = 0\n",
    "    low = 0\n",
    "    high = 0\n",
    "    out = []\n",
    "    \n",
    "    for i, c in enumerate(line):\n",
    "        if c == '(':\n",
    "            parens += 1\n",
    "        elif c == ')':\n",
    "            parens -= 1\n",
    "            if parens < 0:\n",
    "                parens = 0\n",
    "        elif (c == ',' or c =='.') and parens == 0:\n",
    "            high = i\n",
    "            word = line[low:high].strip().lower()\n",
    "            boo = False\n",
    "            for w in ingredient_stop_words:\n",
    "                if w in word:\n",
    "                    boo = boo or True\n",
    "            if word!= None and (not boo):\n",
    "                out.append(word)\n",
    "            low = i + 1\n",
    "    \n",
    "    return out"
   ]
  },
  {
   "cell_type": "code",
   "execution_count": null,
   "id": "e22fcb64",
   "metadata": {
    "scrolled": true
   },
   "outputs": [],
   "source": [
    "text = 'BCAA (leucine, isoleucine, valine), beta-alanine, arginine-alpha-ketoglutarate, citrulline malate, flavors, taurine,tyrosine, anti-caking agent (silica), caffeine anhydrous, acid (citric acid), sweetener (sucralose), grape skin extract, color (beetroot red), emulsifier (sunflower lecithin), vitamin B6 (pyridoxine hydrochloride).'\n",
    "print(text)\n",
    "print()\n",
    "print(splitter_cleaner(text))"
   ]
  },
  {
   "cell_type": "markdown",
   "id": "fb5ee101",
   "metadata": {},
   "source": [
    "## The most common market positioning:\n",
    "1. The most common products positioning globally\n",
    "2. The most common products positioning in US\n",
    "3. Top 20 manufacturers by numbers of new products launched\n",
    "4. The most common products positioning by major players"
   ]
  },
  {
   "cell_type": "code",
   "execution_count": 6,
   "id": "34df95b6",
   "metadata": {},
   "outputs": [],
   "source": [
    "from sklearn.feature_extraction.text import CountVectorizer, TfidfTransformer\n",
    "import numpy as np\n",
    "\n",
    "positioning_countvec = CountVectorizer(tokenizer = positioning_tokenizer,\n",
    "                                    token_pattern = None,)"
   ]
  },
  {
   "cell_type": "markdown",
   "id": "8940bb07",
   "metadata": {},
   "source": [
    "#### The top 10 positioning categories globally"
   ]
  },
  {
   "cell_type": "code",
   "execution_count": null,
   "id": "a2b404dd",
   "metadata": {},
   "outputs": [],
   "source": [
    "global_data = new_product_data['Positioning Subcategory'].astype(str)\n",
    "global_fit = positioning_countvec.fit_transform(global_data)\n",
    "\n",
    "categories = positioning_countvec.get_feature_names_out()\n",
    "counts = np.array(np.sum(global_fit, axis=0))\n",
    "\n",
    "positioning_global = pd.DataFrame(zip(categories, counts[0]))\n",
    "positioning_global.columns = ['category', 'count']\n",
    "positioning_global['frequency'] = positioning_global['count'] / positioning_global['count'].sum()"
   ]
  },
  {
   "cell_type": "code",
   "execution_count": null,
   "id": "4e1b71fa",
   "metadata": {
    "scrolled": true
   },
   "outputs": [],
   "source": [
    "positioning_global.sort_values(by = 'frequency', ascending = False)[:10]"
   ]
  },
  {
   "cell_type": "markdown",
   "id": "1dded9a5",
   "metadata": {},
   "source": [
    "#### The top 10 positioning categories in US"
   ]
  },
  {
   "cell_type": "code",
   "execution_count": null,
   "id": "bee0f9c2",
   "metadata": {},
   "outputs": [],
   "source": [
    "US_data = new_product_data[new_product_data['Country'] == 'United States']['Positioning Subcategory'].astype(str)\n",
    "US_fit = positioning_countvec.fit_transform(US_data)\n",
    "\n",
    "categories = positioning_countvec.get_feature_names_out()\n",
    "counts = np.array(np.sum(US_fit, axis=0))\n",
    "\n",
    "positioning_US = pd.DataFrame(zip(categories, counts[0]))\n",
    "positioning_US.columns = ['category', 'count']\n",
    "positioning_US['frequency'] = positioning_US['count'] / positioning_US['count'].sum()"
   ]
  },
  {
   "cell_type": "code",
   "execution_count": null,
   "id": "7b4ad3db",
   "metadata": {
    "scrolled": true
   },
   "outputs": [],
   "source": [
    "positioning_US.sort_values(by = 'frequency', ascending = False)[:10]"
   ]
  },
  {
   "cell_type": "markdown",
   "id": "07533e86",
   "metadata": {},
   "source": [
    "#### Top 20 manufacturers by numbers of new products launched"
   ]
  },
  {
   "cell_type": "code",
   "execution_count": 95,
   "id": "6a6b6b7b",
   "metadata": {
    "scrolled": false
   },
   "outputs": [
    {
     "data": {
      "text/plain": [
       "Company\n",
       "Prozis                      617\n",
       "The Protein Works           444\n",
       "Bulk                        388\n",
       "Alpro                       336\n",
       "Foodspring                  134\n",
       "Danone                      104\n",
       "Biotechusa                   94\n",
       "The Hain Celestial Group     94\n",
       "Bright Lifecare              89\n",
       "Cnp Professional             87\n",
       "Coca Cola                    83\n",
       "Nu3                          80\n",
       "Mewell                       76\n",
       "Nutrabio Labs                72\n",
       "Phd Nutrition                64\n",
       "Myprotein                    63\n",
       "Sinob                        59\n",
       "Scitec Nutrition             59\n",
       "Fitmart                      58\n",
       "Body And Fit                 57\n",
       "Name: count, dtype: int64"
      ]
     },
     "execution_count": 95,
     "metadata": {},
     "output_type": "execute_result"
    }
   ],
   "source": [
    "new_product_data['Company'].value_counts()[:20]"
   ]
  },
  {
   "cell_type": "markdown",
   "id": "28fc3239",
   "metadata": {},
   "source": [
    "#### The most common products positioning by major players"
   ]
  },
  {
   "cell_type": "code",
   "execution_count": null,
   "id": "19b5ffc0",
   "metadata": {},
   "outputs": [],
   "source": [
    "Danone_data = new_product_data[new_product_data['Company'] == 'Danone']['Positioning Subcategory'].astype(str)\n",
    "Danone_fit = positioning_countvec.fit_transform(Danone_data)\n",
    "\n",
    "categories = positioning_countvec.get_feature_names_out()\n",
    "counts = np.array(np.sum(Danone_fit, axis=0))\n",
    "\n",
    "positioning_Danone = pd.DataFrame(zip(categories, counts[0]))\n",
    "positioning_Danone.columns = ['category', 'count']\n",
    "positioning_Danone['frequency'] = positioning_Danone['count'] / positioning_Danone['count'].sum()"
   ]
  },
  {
   "cell_type": "code",
   "execution_count": null,
   "id": "d1c82929",
   "metadata": {},
   "outputs": [],
   "source": [
    "positioning_Danone.sort_values(by = 'frequency', ascending = False)[:10]"
   ]
  },
  {
   "cell_type": "markdown",
   "id": "2d8cc0a5",
   "metadata": {},
   "source": [
    "## Topic Modeling by LDA Method"
   ]
  },
  {
   "cell_type": "code",
   "execution_count": 7,
   "id": "36b2924d",
   "metadata": {},
   "outputs": [],
   "source": [
    "#Using gensim can extract more information about the resulting generative model than using scikit-learn's LDA class\n",
    "import gensim"
   ]
  },
  {
   "cell_type": "code",
   "execution_count": 8,
   "id": "aa6ad5f9",
   "metadata": {},
   "outputs": [
    {
     "name": "stdout",
     "output_type": "stream",
     "text": [
      "<class 'pandas.core.frame.DataFrame'>\n",
      "Index: 11440 entries, 0 to 19239\n",
      "Data columns (total 1 columns):\n",
      " #   Column           Non-Null Count  Dtype \n",
      "---  ------           --------------  ----- \n",
      " 0   Claims/Features  11440 non-null  string\n",
      "dtypes: string(1)\n",
      "memory usage: 178.8 KB\n"
     ]
    }
   ],
   "source": [
    "product_features = new_product_data[['Claims/Features']].astype('string').dropna()\n",
    "product_features.info()\n",
    "feature_text = product_features['Claims/Features'].values.tolist()"
   ]
  },
  {
   "cell_type": "code",
   "execution_count": 13,
   "id": "4c3de0d1",
   "metadata": {},
   "outputs": [],
   "source": [
    "# Stop_Words = stopwords.difference({'no','free'}) # remove 'no' and 'free' from the stopwords\n",
    "import spacy\n",
    "nlp = spacy.load('en_core_web_sm', disable=['parser','ner','textcat'])\n",
    "stopwords = spacy.lang.en.stop_words.STOP_WORDS                     \n",
    "#stopwords = stopwords.difference({'he','his','her','hers'}) # Removing a few words that don't lemmatize well\n",
    "stopwords.update(['v', 'l', 'mg', 'base', 'add', 'serve', 'beta', 'contain', '.',\n",
    "                 'd', 'll', 'm', 'n', 's', 've', '‘t', '’t', 't', ':']) # Customize the stopwords\n",
    "\n",
    "def process_words(text, stop_words=set()):\n",
    "    result = []\n",
    "    for t in text:\n",
    "        doc = ' '.join(re.findall(r'\\b\\D[a-zA-Z\\'\\/]*\\b', t))\n",
    "        result.append([token.lemma_.lower() for token in nlp(doc) if token.lemma_ not in stop_words])\n",
    "        #result.append([token for token in tokens if token not in stop_words])\n",
    "    return result\n",
    "\n",
    "processed_text = process_words(feature_text, stop_words=stopwords.union(['-PRON-','serving','levels','suitable',\n",
    "                                                                         '-', ' ','  ','   ','ingredient','product']))"
   ]
  },
  {
   "cell_type": "code",
   "execution_count": 14,
   "id": "70b3143a",
   "metadata": {},
   "outputs": [
    {
     "name": "stdout",
     "output_type": "stream",
     "text": [
      "Number of unique tokens: 9004\n"
     ]
    }
   ],
   "source": [
    "dictionary = gensim.corpora.Dictionary(processed_text)\n",
    "print(f'Number of unique tokens: {len(dictionary)}')\n",
    "corpus = [dictionary.doc2bow(t) for t in processed_text]"
   ]
  },
  {
   "cell_type": "markdown",
   "id": "3b9ef1d2",
   "metadata": {},
   "source": [
    "#### Find the dominant features of new products launched Globally\n",
    "#### After the analysis and manually checking the topics, it seems that 3 is the right number of topics"
   ]
  },
  {
   "cell_type": "code",
   "execution_count": null,
   "id": "72e1a931",
   "metadata": {},
   "outputs": [],
   "source": [
    "# Use the coherence score provided by the gensim package to optimize the number of topics\n",
    "#coherence is supposed to model \"human interpretability\" of topics\n",
    "\n",
    "coherence_scores = []\n",
    "for n in range(3, 11):\n",
    "    mod = gensim.models.ldamodel.LdaModel(corpus=corpus, \n",
    "                                          id2word=dictionary,\n",
    "                                          num_topics=n, \n",
    "                                          random_state=117, update_every=1,\n",
    "                                          chunksize=1500, \n",
    "                                          passes=5, iterations=10,\n",
    "                                          alpha='asymmetric', eta=1/100,\n",
    "                                          per_word_topics=True)\n",
    "    cmodel = gensim.models.coherencemodel.CoherenceModel(model=mod,\n",
    "                                                 texts=processed_text,\n",
    "                                                 dictionary=dictionary)\n",
    "    coherence_scores.append((n, cmodel.get_coherence()))"
   ]
  },
  {
   "cell_type": "code",
   "execution_count": null,
   "id": "a956246c",
   "metadata": {},
   "outputs": [],
   "source": [
    "coherence_scores"
   ]
  },
  {
   "cell_type": "code",
   "execution_count": 97,
   "id": "b49af4d8",
   "metadata": {},
   "outputs": [],
   "source": [
    "lda_model_3 = gensim.models.ldamodel.LdaModel(corpus=corpus, \n",
    "                                            id2word=dictionary,\n",
    "                                            num_topics=3, \n",
    "                                            random_state=117, update_every=1,\n",
    "                                            chunksize=1500, \n",
    "                                            passes=5, iterations=10,\n",
    "                                            alpha='asymmetric', eta=1/100,\n",
    "                                            per_word_topics=True)"
   ]
  },
  {
   "cell_type": "code",
   "execution_count": 98,
   "id": "862b7b95",
   "metadata": {},
   "outputs": [
    {
     "name": "stdout",
     "output_type": "stream",
     "text": [
      "[(0,\n",
      "  '0.094*\"protein\" + 0.020*\"high\" + 0.019*\"muscle\" + 0.018*\"whey\" + '\n",
      "  '0.017*\"amino\" + 0.016*\"acid\" + 0.015*\"vegan\" + 0.012*\"vegetarian\" + '\n",
      "  '0.012*\"sugar\" + 0.011*\"quality\" + 0.010*\"bcaa\" + 0.010*\"flavor\" + '\n",
      "  '0.010*\"mass\" + 0.009*\"low\" + 0.009*\"source\"'),\n",
      " (1,\n",
      "  '0.031*\"certify\" + 0.031*\"plant\" + 0.029*\"sugar\" + 0.025*\"organic\" + '\n",
      "  '0.025*\"gluten\" + 0.020*\"lactose\" + 0.018*\"vegan\" + 0.018*\"dairy\" + '\n",
      "  '0.017*\"vitamin\" + 0.017*\"certified\" + 0.017*\"calcium\" + 0.016*\"naturally\" + '\n",
      "  '0.016*\"recyclable\" + 0.015*\"source\" + 0.013*\"soy\"'),\n",
      " (2,\n",
      "  '0.029*\"muscle\" + 0.015*\"energy\" + 0.012*\"help\" + 0.011*\"body\" + '\n",
      "  '0.011*\"normal\" + 0.010*\"support\" + 0.010*\"increase\" + 0.010*\"recovery\" + '\n",
      "  '0.009*\"performance\" + 0.009*\"caffeine\" + 0.009*\"acid\" + 0.009*\"contribute\" '\n",
      "  '+ 0.008*\"bcaa\" + 0.008*\"vitamin\" + 0.007*\"fatigue\"')]\n"
     ]
    }
   ],
   "source": [
    "from pprint import pprint\n",
    "\n",
    "pprint(lda_model_3.print_topics(num_words=15))"
   ]
  },
  {
   "cell_type": "code",
   "execution_count": 17,
   "id": "49299f2e",
   "metadata": {},
   "outputs": [],
   "source": [
    "def get_main_topic_df(model, bow, texts):\n",
    "    topic_list = []\n",
    "    percent_list = []\n",
    "    keyword_list = []\n",
    "    \n",
    "    for wc in bow:\n",
    "        topic, percent = sorted(model.get_document_topics(wc), key=lambda x: x[1], reverse=True)[0]\n",
    "        topic_list.append(topic)\n",
    "        percent_list.append(round(percent, 3))\n",
    "        #keyword_list.append(' '.join(sorted([x[0] for x in model.show_topic(topic)])))\n",
    "\n",
    "    result_df = pd.concat([pd.Series(topic_list, name='Dominant_topic'), \n",
    "                           pd.Series(percent_list, name='Percent'), \n",
    "                           pd.Series(texts, name='Processed_text')],axis=1) \n",
    "                           #pd.Series(keyword_list, name='Keywords')], axis=1)\n",
    "\n",
    "    return result_df"
   ]
  },
  {
   "cell_type": "code",
   "execution_count": 99,
   "id": "218b3389",
   "metadata": {
    "scrolled": true
   },
   "outputs": [],
   "source": [
    "main_topic_df = get_main_topic_df(lda_model_3, corpus, processed_text)"
   ]
  },
  {
   "cell_type": "code",
   "execution_count": null,
   "id": "e40979fc",
   "metadata": {},
   "outputs": [],
   "source": [
    "main_topic_df.info()"
   ]
  },
  {
   "cell_type": "code",
   "execution_count": null,
   "id": "476859a1",
   "metadata": {},
   "outputs": [],
   "source": [
    "product_features.info()"
   ]
  },
  {
   "cell_type": "code",
   "execution_count": 103,
   "id": "c647214c",
   "metadata": {},
   "outputs": [
    {
     "data": {
      "image/png": "[encoded data removed]",
      "text/plain": [
       "<Figure size 432x288 with 1 Axes>"
      ]
     },
     "metadata": {},
     "output_type": "display_data"
    }
   ],
   "source": [
    "# plot_df = pd.DataFrame({'count': grouped_topics.count()['Processed_text'].to_list()}, index=)\n",
    "plt.bar(['Nutrition','Certifications','Muscle building & Workout'], grouped_topics.count()['Processed_text'].to_list(), width=0.6)\n",
    "plt.title(f'The main targeting consumer group of the {len(feature_text)} Products')\n",
    "plt.ylabel('Number of New Products')\n",
    "plt.xlabel('Consumer Groups')\n",
    "plt.savefig('global_plot.png')"
   ]
  },
  {
   "cell_type": "code",
   "execution_count": 119,
   "id": "93bf3d34",
   "metadata": {},
   "outputs": [],
   "source": [
    "lda_top_words_index = set()\n",
    "for i in range(lda_model_3.num_topics):\n",
    "    lda_top_words_index = lda_top_words_index.union([k for (k,v) in lda_model_3.get_topic_terms(i)])\n",
    "    \n",
    "words_we_care_about = [{dictionary[tup[0]]: tup[1] for tup in lst if tup[0] in lda_top_words_index} \n",
    "                       for lst in corpus]\n",
    "\n",
    "lda_top_words_df = pd.DataFrame(words_we_care_about).fillna(0).astype(int).sort_index(axis=1)\n",
    "lda_top_words_df['Consumer groups'] = main_topic_df['Dominant_topic']\n",
    "lda_top_words_df.loc[lda_top_words_df['Consumer groups'] == 0, 'Consumer groups'] = 'Nutrition'\n",
    "lda_top_words_df.loc[lda_top_words_df['Consumer groups'] == 1, 'Consumer groups'] = 'Certifications'\n",
    "lda_top_words_df.loc[lda_top_words_df['Consumer groups'] == 2, 'Consumer groups'] = 'Muscle building & Workout'"
   ]
  },
  {
   "cell_type": "code",
   "execution_count": 139,
   "id": "0fabf6db",
   "metadata": {},
   "outputs": [
    {
     "data": {
      "image/png": "[encoded data removed]",
      "text/plain": [
       "<Figure size 1080x360 with 1 Axes>"
      ]
     },
     "metadata": {},
     "output_type": "display_data"
    }
   ],
   "source": [
    "fig = lda_top_words_df.groupby('Consumer groups').sum().transpose().\\\n",
    "         plot(kind='bar', figsize=(15, 5), width=0.7)\n",
    "fig.set_ylabel('Word frequency')\n",
    "fig.set_title(f'Word Frequencies by Targeted Consumer Groups, Combining the Top {len(lda_top_words_index)} Words in Each Group')\n",
    "figure = fig.get_figure()\n",
    "\n",
    "figure.savefig('global_words.png')"
   ]
  },
  {
   "cell_type": "code",
   "execution_count": 20,
   "id": "8f4846ed",
   "metadata": {},
   "outputs": [],
   "source": [
    "import pyLDAvis.gensim_models\n",
    "pyLDAvis.enable_notebook()"
   ]
  },
  {
   "cell_type": "code",
   "execution_count": 21,
   "id": "0360f3f8",
   "metadata": {},
   "outputs": [],
   "source": [
    "vis_3_topics = pyLDAvis.gensim_models.prepare(lda_model_3, corpus, dictionary = lda_model_3.id2word)"
   ]
  },
  {
   "cell_type": "code",
   "execution_count": null,
   "id": "472e86eb",
   "metadata": {
    "scrolled": true
   },
   "outputs": [],
   "source": [
    "vis_3_topics"
   ]
  },
  {
   "cell_type": "markdown",
   "id": "e0db7fae",
   "metadata": {},
   "source": [
    "#### Find the dominant features of new products launched in NA region"
   ]
  },
  {
   "cell_type": "code",
   "execution_count": 59,
   "id": "7c5cc799",
   "metadata": {},
   "outputs": [],
   "source": [
    "NA_product_features = new_product_data[new_product_data['Region'] == 'North America']['Claims/Features'].dropna().astype(str)"
   ]
  },
  {
   "cell_type": "code",
   "execution_count": 60,
   "id": "8dc9b859",
   "metadata": {},
   "outputs": [
    {
     "data": {
      "text/plain": [
       "28    USDA organic. Non-GMO Project verified. Dairy ...\n",
       "31    USDA organic. Non-GMO Project verified. Dairy ...\n",
       "36    Plant-based. Blender free. Made with peanuts a...\n",
       "37    USDA organic. Unsweetened. Soy free. Suitable ...\n",
       "38    USDA organic. Unsweetened. Soy free. Suitable ...\n",
       "Name: Claims/Features, dtype: object"
      ]
     },
     "execution_count": 60,
     "metadata": {},
     "output_type": "execute_result"
    }
   ],
   "source": [
    "NA_product_features.head()"
   ]
  },
  {
   "cell_type": "code",
   "execution_count": 61,
   "id": "f8f75986",
   "metadata": {},
   "outputs": [],
   "source": [
    "NA_feature_text = NA_product_features.values.tolist()\n",
    "NA_processed_text = process_words(NA_feature_text, stop_words=stopwords.union(['-PRON-','contain','serving','levels','suitable', '-', ' ','  ','   ',\n",
    "                                                                         'ingredient','product']))"
   ]
  },
  {
   "cell_type": "code",
   "execution_count": 62,
   "id": "7cd5760d",
   "metadata": {},
   "outputs": [
    {
     "name": "stdout",
     "output_type": "stream",
     "text": [
      "Number of unique tokens: 5202\n"
     ]
    }
   ],
   "source": [
    "NA_dictionary = gensim.corpora.Dictionary(NA_processed_text)\n",
    "print(f'Number of unique tokens: {len(NA_dictionary)}')\n",
    "NA_corpus = [NA_dictionary.doc2bow(t) for t in NA_processed_text]"
   ]
  },
  {
   "cell_type": "code",
   "execution_count": 70,
   "id": "ef1e63ae",
   "metadata": {},
   "outputs": [],
   "source": [
    "NA_coherence_scores = []\n",
    "for n in range(2, 10):\n",
    "    mod = gensim.models.ldamodel.LdaModel(corpus=NA_corpus, \n",
    "                                          id2word=NA_dictionary,\n",
    "                                          num_topics=n, \n",
    "                                          random_state=117, update_every=1,\n",
    "                                          chunksize=1500, \n",
    "                                          passes=5, iterations=10,\n",
    "                                          alpha='asymmetric', eta=1/100,\n",
    "                                          per_word_topics=True)\n",
    "    cmodel = gensim.models.coherencemodel.CoherenceModel(model=mod,\n",
    "                                                 texts=NA_processed_text,\n",
    "                                                 dictionary=NA_dictionary)\n",
    "    NA_coherence_scores.append((n, cmodel.get_coherence()))"
   ]
  },
  {
   "cell_type": "code",
   "execution_count": 71,
   "id": "85428cdc",
   "metadata": {},
   "outputs": [
    {
     "data": {
      "text/plain": [
       "[(2, 0.5109118599213257),\n",
       " (3, 0.4553716603302574),\n",
       " (4, 0.4374198285107608),\n",
       " (5, 0.5250105393467447),\n",
       " (6, 0.492542234536133),\n",
       " (7, 0.4853062430145516),\n",
       " (8, 0.5101406318678322),\n",
       " (9, 0.5313458016476968)]"
      ]
     },
     "execution_count": 71,
     "metadata": {},
     "output_type": "execute_result"
    }
   ],
   "source": [
    "NA_coherence_scores"
   ]
  },
  {
   "cell_type": "code",
   "execution_count": 145,
   "id": "d16f0b1c",
   "metadata": {},
   "outputs": [
    {
     "name": "stdout",
     "output_type": "stream",
     "text": [
      "[(0,\n",
      "  '0.036*\"protein\" + 0.022*\"gluten\" + 0.020*\"plant\" + 0.020*\"organic\" + '\n",
      "  '0.017*\"dairy\" + 0.017*\"sugar\" + 0.017*\"non\" + 0.017*\"flavor\" + '\n",
      "  '0.015*\"vegan\" + 0.013*\"-gmo\" + 0.013*\"certify\" + 0.013*\"soy\" + '\n",
      "  '0.013*\"artificial\" + 0.012*\"certified\" + 0.011*\"source\" + 0.010*\"natural\" + '\n",
      "  '0.010*\"kosher\" + 0.009*\"calorie\" + 0.009*\"vegans\" + 0.008*\"vitamin\"'),\n",
      " (1,\n",
      "  '0.028*\"muscle\" + 0.013*\"increase\" + 0.012*\"support\" + 0.012*\"help\" + '\n",
      "  '0.012*\"protein\" + 0.011*\"energy\" + 0.011*\"bcaa\" + 0.010*\"acid\" + '\n",
      "  '0.010*\"recovery\" + 0.010*\"body\" + 0.010*\"amino\" + 0.008*\"vegan\" + '\n",
      "  '0.007*\"level\" + 0.007*\"improve\" + 0.007*\"performance\" + 0.007*\"blood\" + '\n",
      "  '0.007*\"flavor\" + 0.006*\"gluten\" + 0.006*\"natural\" + 0.006*\"growth\"')]\n"
     ]
    }
   ],
   "source": [
    "NA_lda_2 = gensim.models.ldamodel.LdaModel(corpus=NA_corpus, \n",
    "                                            id2word=NA_dictionary,\n",
    "                                            num_topics=2, \n",
    "                                            random_state=117, update_every=1,\n",
    "                                            chunksize=1500, \n",
    "                                            passes=5, iterations=10,\n",
    "                                            alpha='asymmetric', eta=1/100,\n",
    "                                            per_word_topics=True)\n",
    "\n",
    "pprint(NA_lda_2.print_topics(num_words=20))"
   ]
  },
  {
   "cell_type": "code",
   "execution_count": 90,
   "id": "cccb3840",
   "metadata": {
    "scrolled": true
   },
   "outputs": [
    {
     "data": {
      "image/png": "[encoded data removed]",
      "text/plain": [
       "<Figure size 432x288 with 1 Axes>"
      ]
     },
     "metadata": {},
     "output_type": "display_data"
    }
   ],
   "source": [
    "NA_main_topic = get_main_topic_df(NA_lda_2, NA_corpus, NA_processed_text)\n",
    "\n",
    "NA_topics = NA_main_topic.groupby('Dominant_topic')\n",
    "plt.bar(['Certifications','Muscle building & Nutrition'], NA_topics.count()['Processed_text'].to_list(), width=0.6)\n",
    "plt.title(f'The main targeting consumer group of the {len(NA_feature_text)} Products')\n",
    "plt.ylabel('Number of New Products')\n",
    "plt.xlabel('Consumer Groups')\n",
    "plt.savefig('NA_plot.png')"
   ]
  },
  {
   "cell_type": "code",
   "execution_count": 143,
   "id": "310ea34f",
   "metadata": {},
   "outputs": [],
   "source": [
    "NA_top_words_index = set()\n",
    "for i in range(NA_lda_2.num_topics):\n",
    "    NA_top_words_index = NA_top_words_index.union([k for (k,v) in NA_lda_2.get_topic_terms(i)])\n",
    "    \n",
    "NA_words = [{dictionary[tup[0]]: tup[1] for tup in lst if tup[0] in NA_top_words_index} \n",
    "                       for lst in NA_corpus]\n",
    "\n",
    "NA_top_words_df = pd.DataFrame(NA_words).fillna(0).astype(int).sort_index(axis=1)\n",
    "NA_top_words_df['Consumer groups'] = NA_main_topic['Dominant_topic']\n",
    "NA_top_words_df.loc[NA_top_words_df['Consumer groups'] == 0, 'Consumer groups'] = 'Certifications'\n",
    "NA_top_words_df.loc[NA_top_words_df['Consumer groups'] == 1, 'Consumer groups'] = 'Muscle building & Nutrition'"
   ]
  },
  {
   "cell_type": "code",
   "execution_count": 144,
   "id": "de4bb7f6",
   "metadata": {},
   "outputs": [
    {
     "data": {
      "text/html": [
       "<div>\n",
       "<style scoped>\n",
       "    .dataframe tbody tr th:only-of-type {\n",
       "        vertical-align: middle;\n",
       "    }\n",
       "\n",
       "    .dataframe tbody tr th {\n",
       "        vertical-align: top;\n",
       "    }\n",
       "\n",
       "    .dataframe thead th {\n",
       "        text-align: right;\n",
       "    }\n",
       "</style>\n",
       "<table border=\"1\" class=\"dataframe\">\n",
       "  <thead>\n",
       "    <tr style=\"text-align: right;\">\n",
       "      <th></th>\n",
       "      <th>-base</th>\n",
       "      <th>bcaa</th>\n",
       "      <th>come</th>\n",
       "      <th>contribute</th>\n",
       "      <th>d</th>\n",
       "      <th>dot</th>\n",
       "      <th>environment</th>\n",
       "      <th>flax</th>\n",
       "      <th>health</th>\n",
       "      <th>inulin</th>\n",
       "      <th>lid</th>\n",
       "      <th>light</th>\n",
       "      <th>muscle</th>\n",
       "      <th>nutrition</th>\n",
       "      <th>office</th>\n",
       "      <th>popular</th>\n",
       "      <th>reduce</th>\n",
       "      <th>renewable</th>\n",
       "      <th>workout</th>\n",
       "      <th>Consumer groups</th>\n",
       "    </tr>\n",
       "  </thead>\n",
       "  <tbody>\n",
       "    <tr>\n",
       "      <th>0</th>\n",
       "      <td>1</td>\n",
       "      <td>0</td>\n",
       "      <td>2</td>\n",
       "      <td>1</td>\n",
       "      <td>1</td>\n",
       "      <td>2</td>\n",
       "      <td>1</td>\n",
       "      <td>0</td>\n",
       "      <td>0</td>\n",
       "      <td>0</td>\n",
       "      <td>0</td>\n",
       "      <td>0</td>\n",
       "      <td>0</td>\n",
       "      <td>0</td>\n",
       "      <td>0</td>\n",
       "      <td>0</td>\n",
       "      <td>0</td>\n",
       "      <td>0</td>\n",
       "      <td>0</td>\n",
       "      <td>Certifications</td>\n",
       "    </tr>\n",
       "    <tr>\n",
       "      <th>1</th>\n",
       "      <td>1</td>\n",
       "      <td>0</td>\n",
       "      <td>2</td>\n",
       "      <td>1</td>\n",
       "      <td>1</td>\n",
       "      <td>2</td>\n",
       "      <td>1</td>\n",
       "      <td>0</td>\n",
       "      <td>0</td>\n",
       "      <td>0</td>\n",
       "      <td>0</td>\n",
       "      <td>0</td>\n",
       "      <td>0</td>\n",
       "      <td>0</td>\n",
       "      <td>0</td>\n",
       "      <td>0</td>\n",
       "      <td>0</td>\n",
       "      <td>0</td>\n",
       "      <td>0</td>\n",
       "      <td>Certifications</td>\n",
       "    </tr>\n",
       "    <tr>\n",
       "      <th>2</th>\n",
       "      <td>1</td>\n",
       "      <td>0</td>\n",
       "      <td>0</td>\n",
       "      <td>1</td>\n",
       "      <td>1</td>\n",
       "      <td>0</td>\n",
       "      <td>0</td>\n",
       "      <td>0</td>\n",
       "      <td>0</td>\n",
       "      <td>0</td>\n",
       "      <td>0</td>\n",
       "      <td>0</td>\n",
       "      <td>0</td>\n",
       "      <td>2</td>\n",
       "      <td>0</td>\n",
       "      <td>0</td>\n",
       "      <td>1</td>\n",
       "      <td>1</td>\n",
       "      <td>0</td>\n",
       "      <td>Certifications</td>\n",
       "    </tr>\n",
       "    <tr>\n",
       "      <th>3</th>\n",
       "      <td>0</td>\n",
       "      <td>0</td>\n",
       "      <td>1</td>\n",
       "      <td>0</td>\n",
       "      <td>0</td>\n",
       "      <td>2</td>\n",
       "      <td>0</td>\n",
       "      <td>0</td>\n",
       "      <td>0</td>\n",
       "      <td>0</td>\n",
       "      <td>0</td>\n",
       "      <td>0</td>\n",
       "      <td>0</td>\n",
       "      <td>0</td>\n",
       "      <td>0</td>\n",
       "      <td>0</td>\n",
       "      <td>1</td>\n",
       "      <td>0</td>\n",
       "      <td>0</td>\n",
       "      <td>Certifications</td>\n",
       "    </tr>\n",
       "    <tr>\n",
       "      <th>4</th>\n",
       "      <td>0</td>\n",
       "      <td>0</td>\n",
       "      <td>1</td>\n",
       "      <td>0</td>\n",
       "      <td>0</td>\n",
       "      <td>2</td>\n",
       "      <td>0</td>\n",
       "      <td>0</td>\n",
       "      <td>0</td>\n",
       "      <td>0</td>\n",
       "      <td>0</td>\n",
       "      <td>0</td>\n",
       "      <td>0</td>\n",
       "      <td>1</td>\n",
       "      <td>0</td>\n",
       "      <td>0</td>\n",
       "      <td>1</td>\n",
       "      <td>0</td>\n",
       "      <td>0</td>\n",
       "      <td>Certifications</td>\n",
       "    </tr>\n",
       "    <tr>\n",
       "      <th>5</th>\n",
       "      <td>0</td>\n",
       "      <td>0</td>\n",
       "      <td>1</td>\n",
       "      <td>0</td>\n",
       "      <td>0</td>\n",
       "      <td>0</td>\n",
       "      <td>0</td>\n",
       "      <td>0</td>\n",
       "      <td>0</td>\n",
       "      <td>0</td>\n",
       "      <td>0</td>\n",
       "      <td>0</td>\n",
       "      <td>0</td>\n",
       "      <td>1</td>\n",
       "      <td>0</td>\n",
       "      <td>0</td>\n",
       "      <td>1</td>\n",
       "      <td>0</td>\n",
       "      <td>0</td>\n",
       "      <td>Certifications</td>\n",
       "    </tr>\n",
       "    <tr>\n",
       "      <th>6</th>\n",
       "      <td>0</td>\n",
       "      <td>0</td>\n",
       "      <td>0</td>\n",
       "      <td>0</td>\n",
       "      <td>0</td>\n",
       "      <td>1</td>\n",
       "      <td>0</td>\n",
       "      <td>0</td>\n",
       "      <td>0</td>\n",
       "      <td>0</td>\n",
       "      <td>0</td>\n",
       "      <td>0</td>\n",
       "      <td>0</td>\n",
       "      <td>0</td>\n",
       "      <td>0</td>\n",
       "      <td>0</td>\n",
       "      <td>1</td>\n",
       "      <td>1</td>\n",
       "      <td>1</td>\n",
       "      <td>Certifications</td>\n",
       "    </tr>\n",
       "    <tr>\n",
       "      <th>7</th>\n",
       "      <td>0</td>\n",
       "      <td>0</td>\n",
       "      <td>0</td>\n",
       "      <td>0</td>\n",
       "      <td>0</td>\n",
       "      <td>1</td>\n",
       "      <td>0</td>\n",
       "      <td>0</td>\n",
       "      <td>0</td>\n",
       "      <td>0</td>\n",
       "      <td>0</td>\n",
       "      <td>0</td>\n",
       "      <td>0</td>\n",
       "      <td>0</td>\n",
       "      <td>0</td>\n",
       "      <td>0</td>\n",
       "      <td>1</td>\n",
       "      <td>1</td>\n",
       "      <td>1</td>\n",
       "      <td>Certifications</td>\n",
       "    </tr>\n",
       "    <tr>\n",
       "      <th>8</th>\n",
       "      <td>0</td>\n",
       "      <td>0</td>\n",
       "      <td>0</td>\n",
       "      <td>0</td>\n",
       "      <td>0</td>\n",
       "      <td>1</td>\n",
       "      <td>0</td>\n",
       "      <td>0</td>\n",
       "      <td>0</td>\n",
       "      <td>0</td>\n",
       "      <td>0</td>\n",
       "      <td>0</td>\n",
       "      <td>0</td>\n",
       "      <td>0</td>\n",
       "      <td>0</td>\n",
       "      <td>0</td>\n",
       "      <td>1</td>\n",
       "      <td>1</td>\n",
       "      <td>1</td>\n",
       "      <td>Certifications</td>\n",
       "    </tr>\n",
       "    <tr>\n",
       "      <th>9</th>\n",
       "      <td>0</td>\n",
       "      <td>0</td>\n",
       "      <td>0</td>\n",
       "      <td>0</td>\n",
       "      <td>0</td>\n",
       "      <td>1</td>\n",
       "      <td>0</td>\n",
       "      <td>0</td>\n",
       "      <td>0</td>\n",
       "      <td>0</td>\n",
       "      <td>0</td>\n",
       "      <td>0</td>\n",
       "      <td>0</td>\n",
       "      <td>0</td>\n",
       "      <td>0</td>\n",
       "      <td>0</td>\n",
       "      <td>1</td>\n",
       "      <td>1</td>\n",
       "      <td>1</td>\n",
       "      <td>Certifications</td>\n",
       "    </tr>\n",
       "  </tbody>\n",
       "</table>\n",
       "</div>"
      ],
      "text/plain": [
       "   -base  bcaa  come  contribute  d  dot  environment  flax  health  inulin   \n",
       "0      1     0     2           1  1    2            1     0       0       0  \\\n",
       "1      1     0     2           1  1    2            1     0       0       0   \n",
       "2      1     0     0           1  1    0            0     0       0       0   \n",
       "3      0     0     1           0  0    2            0     0       0       0   \n",
       "4      0     0     1           0  0    2            0     0       0       0   \n",
       "5      0     0     1           0  0    0            0     0       0       0   \n",
       "6      0     0     0           0  0    1            0     0       0       0   \n",
       "7      0     0     0           0  0    1            0     0       0       0   \n",
       "8      0     0     0           0  0    1            0     0       0       0   \n",
       "9      0     0     0           0  0    1            0     0       0       0   \n",
       "\n",
       "   lid  light  muscle  nutrition  office  popular  reduce  renewable  workout   \n",
       "0    0      0       0          0       0        0       0          0        0  \\\n",
       "1    0      0       0          0       0        0       0          0        0   \n",
       "2    0      0       0          2       0        0       1          1        0   \n",
       "3    0      0       0          0       0        0       1          0        0   \n",
       "4    0      0       0          1       0        0       1          0        0   \n",
       "5    0      0       0          1       0        0       1          0        0   \n",
       "6    0      0       0          0       0        0       1          1        1   \n",
       "7    0      0       0          0       0        0       1          1        1   \n",
       "8    0      0       0          0       0        0       1          1        1   \n",
       "9    0      0       0          0       0        0       1          1        1   \n",
       "\n",
       "  Consumer groups  \n",
       "0  Certifications  \n",
       "1  Certifications  \n",
       "2  Certifications  \n",
       "3  Certifications  \n",
       "4  Certifications  \n",
       "5  Certifications  \n",
       "6  Certifications  \n",
       "7  Certifications  \n",
       "8  Certifications  \n",
       "9  Certifications  "
      ]
     },
     "execution_count": 144,
     "metadata": {},
     "output_type": "execute_result"
    }
   ],
   "source": [
    "NA_top_words_df.head(10)"
   ]
  },
  {
   "cell_type": "code",
   "execution_count": 141,
   "id": "8698004a",
   "metadata": {},
   "outputs": [
    {
     "data": {
      "image/png": "[encoded data removed]",
      "text/plain": [
       "<Figure size 1080x360 with 1 Axes>"
      ]
     },
     "metadata": {},
     "output_type": "display_data"
    }
   ],
   "source": [
    "fig = NA_top_words_df.groupby('Consumer groups').sum().transpose().\\\n",
    "         plot(kind='bar', figsize=(15, 5), width=0.7)\n",
    "fig.set_ylabel('Word frequency')\n",
    "fig.set_title(f'Word Frequencies by Targeted Consumer Groups, Combining the Top {len(NA_top_words_index)} Words in Each Group')\n",
    "figure = fig.get_figure()\n",
    "\n",
    "figure.savefig('NA_words.png')"
   ]
  },
  {
   "cell_type": "code",
   "execution_count": 79,
   "id": "efad8d0d",
   "metadata": {},
   "outputs": [],
   "source": [
    "NA_2_topics = pyLDAvis.gensim_models.prepare(NA_lda_2, NA_corpus, dictionary = NA_lda_2.id2word)"
   ]
  },
  {
   "cell_type": "code",
   "execution_count": null,
   "id": "09c45ade",
   "metadata": {},
   "outputs": [],
   "source": [
    "NA_2_topics"
   ]
  },
  {
   "cell_type": "markdown",
   "id": "53ff76a3",
   "metadata": {},
   "source": [
    "#### Find the dominant features of new products launched in Europe"
   ]
  },
  {
   "cell_type": "code",
   "execution_count": 34,
   "id": "718bec4f",
   "metadata": {},
   "outputs": [],
   "source": [
    "EU_product_features = new_product_data[(new_product_data['Region'] == 'West Europe') | \\\n",
    "                        (new_product_data['Region'] == 'East Europe')]['Claims/Features'].dropna().astype(str)"
   ]
  },
  {
   "cell_type": "code",
   "execution_count": 35,
   "id": "03d66dcb",
   "metadata": {},
   "outputs": [
    {
     "name": "stdout",
     "output_type": "stream",
     "text": [
      "<class 'pandas.core.series.Series'>\n",
      "Index: 6347 entries, 0 to 19228\n",
      "Series name: Claims/Features\n",
      "Non-Null Count  Dtype \n",
      "--------------  ----- \n",
      "6347 non-null   object\n",
      "dtypes: object(1)\n",
      "memory usage: 99.2+ KB\n"
     ]
    }
   ],
   "source": [
    "EU_product_features.info()"
   ]
  },
  {
   "cell_type": "code",
   "execution_count": 36,
   "id": "7b153c7c",
   "metadata": {},
   "outputs": [],
   "source": [
    "EU_feature_text = EU_product_features.values.tolist()\n",
    "EU_processed_text = process_words(EU_feature_text, stop_words=stopwords.union(['-PRON-','contain','serving','levels','suitable', '-', ' ','  ','   ',\n",
    "                                                                         'ingredient','product']))"
   ]
  },
  {
   "cell_type": "code",
   "execution_count": 37,
   "id": "34fe7008",
   "metadata": {},
   "outputs": [
    {
     "name": "stdout",
     "output_type": "stream",
     "text": [
      "Number of unique tokens: 5493\n"
     ]
    }
   ],
   "source": [
    "EU_dictionary = gensim.corpora.Dictionary(EU_processed_text)\n",
    "print(f'Number of unique tokens: {len(EU_dictionary)}')\n",
    "EU_corpus = [EU_dictionary.doc2bow(t) for t in EU_processed_text]"
   ]
  },
  {
   "cell_type": "code",
   "execution_count": 81,
   "id": "02140f03",
   "metadata": {},
   "outputs": [],
   "source": [
    "EU_coherence_scores = []\n",
    "for n in range(2, 10):\n",
    "    mod = gensim.models.ldamodel.LdaModel(corpus=EU_corpus, \n",
    "                                          id2word=EU_dictionary,\n",
    "                                          num_topics=n, \n",
    "                                          random_state=117, update_every=1,\n",
    "                                          chunksize=1500, \n",
    "                                          passes=5, iterations=10,\n",
    "                                          alpha='asymmetric', eta=1/100,\n",
    "                                          per_word_topics=True)\n",
    "    cmodel = gensim.models.coherencemodel.CoherenceModel(model=mod,\n",
    "                                                 texts=EU_processed_text,\n",
    "                                                 dictionary=EU_dictionary)\n",
    "    EU_coherence_scores.append((n, cmodel.get_coherence()))"
   ]
  },
  {
   "cell_type": "code",
   "execution_count": 82,
   "id": "e357ccab",
   "metadata": {},
   "outputs": [
    {
     "data": {
      "text/plain": [
       "[(2, 0.4578572431462126),\n",
       " (3, 0.5231300561062374),\n",
       " (4, 0.4955660971972499),\n",
       " (5, 0.4861231526524736),\n",
       " (6, 0.4586655539626206),\n",
       " (7, 0.5158026278896538),\n",
       " (8, 0.4857720085890854),\n",
       " (9, 0.49795325458785783)]"
      ]
     },
     "execution_count": 82,
     "metadata": {},
     "output_type": "execute_result"
    }
   ],
   "source": [
    "EU_coherence_scores"
   ]
  },
  {
   "cell_type": "code",
   "execution_count": 88,
   "id": "1533dcfc",
   "metadata": {},
   "outputs": [
    {
     "name": "stdout",
     "output_type": "stream",
     "text": [
      "[(0,\n",
      "  '0.038*\"sugar\" + 0.035*\"certify\" + 0.033*\"plant\" + 0.027*\"lactose\" + '\n",
      "  '0.024*\"vegan\" + 0.023*\"gluten\" + 0.022*\"organic\" + 0.020*\"naturally\" + '\n",
      "  '0.019*\"low\" + 0.017*\"vitamin\" + 0.017*\"certified\" + 0.017*\"fsc\" + '\n",
      "  '0.016*\"source\" + 0.016*\"recyclable\" + 0.015*\"fat\" + 0.015*\"-base\" + '\n",
      "  '0.015*\"calcium\" + 0.014*\"protein\" + 0.014*\"vegans\" + 0.012*\"green\"'),\n",
      " (1,\n",
      "  '0.080*\"protein\" + 0.020*\"muscle\" + 0.020*\"high\" + 0.018*\"amino\" + '\n",
      "  '0.017*\"acid\" + 0.016*\"whey\" + 0.013*\"vegetarian\" + 0.013*\"vegan\" + '\n",
      "  '0.011*\"bcaa\" + 0.011*\"mass\" + 0.011*\"quality\" + 0.010*\"diet\" + '\n",
      "  '0.009*\"flavor\" + 0.009*\"use\" + 0.008*\"powder\" + 0.008*\"shake\" + '\n",
      "  '0.008*\"sugar\" + 0.007*\"low\" + 0.007*\"premium\" + 0.007*\"blend\"'),\n",
      " (2,\n",
      "  '0.024*\"muscle\" + 0.023*\"normal\" + 0.020*\"vitamin\" + 0.019*\"contribute\" + '\n",
      "  '0.016*\"energy\" + 0.015*\"caffeine\" + 0.013*\"fatigue\" + 0.012*\"metabolism\" + '\n",
      "  '0.011*\"performance\" + 0.010*\"function\" + 0.009*\"help\" + 0.009*\"sugar\" + '\n",
      "  '0.009*\"body\" + 0.008*\"high\" + 0.008*\"formula\" + 0.008*\"exercise\" + '\n",
      "  '0.008*\"-workout\" + 0.007*\"reduce\" + 0.007*\"drink\" + 0.007*\"acid\"')]\n"
     ]
    }
   ],
   "source": [
    "EU_lda_3 = gensim.models.ldamodel.LdaModel(corpus=EU_corpus, \n",
    "                                            id2word=EU_dictionary,\n",
    "                                            num_topics=3, \n",
    "                                            random_state=117, update_every=1,\n",
    "                                            chunksize=1500, \n",
    "                                            passes=5, iterations=10,\n",
    "                                            alpha='asymmetric', eta=1/100,\n",
    "                                            per_word_topics=True)\n",
    "\n",
    "pprint(EU_lda_3.print_topics(num_words=20))"
   ]
  },
  {
   "cell_type": "code",
   "execution_count": 156,
   "id": "a0e8312a",
   "metadata": {
    "scrolled": true
   },
   "outputs": [
    {
     "data": {
      "image/png": "[encoded data removed]",
      "text/plain": [
       "<Figure size 432x288 with 1 Axes>"
      ]
     },
     "metadata": {},
     "output_type": "display_data"
    }
   ],
   "source": [
    "EU_main_topic = get_main_topic_df(EU_lda_3, EU_corpus, EU_processed_text)\n",
    "\n",
    "EU_topics = EU_main_topic.groupby('Dominant_topic')\n",
    "plt.bar(['Certifications','Nutrition','Muscle building & Workout'], EU_topics.count()['Processed_text'].to_list(), width=0.6)\n",
    "plt.title(f'The main targeting consumer group of the {len(EU_feature_text)} Products')\n",
    "plt.ylabel('Number of New Products')\n",
    "plt.xlabel('Consumer Groups')\n",
    "plt.savefig('EU_plot.png')"
   ]
  },
  {
   "cell_type": "code",
   "execution_count": 157,
   "id": "dfd609ba",
   "metadata": {},
   "outputs": [],
   "source": [
    "EU_top_words_index = set()\n",
    "for i in range(EU_lda_3.num_topics):\n",
    "    EU_top_words_index = EU_top_words_index.union([k for (k,v) in EU_lda_3.get_topic_terms(i)])\n",
    "    \n",
    "EU_words = [{dictionary[tup[0]]: tup[1] for tup in lst if tup[0] in EU_top_words_index} \n",
    "                       for lst in EU_corpus]\n",
    "\n",
    "EU_top_words_df = pd.DataFrame(EU_words).fillna(0).astype(int).sort_index(axis=1)\n",
    "EU_top_words_df['Consumer groups'] = EU_main_topic['Dominant_topic']\n",
    "EU_top_words_df.loc[EU_top_words_df['Consumer groups'] == 0, 'Consumer groups'] = 'Certifications'\n",
    "EU_top_words_df.loc[EU_top_words_df['Consumer groups'] == 1, 'Consumer groups'] = 'Nutrition'\n",
    "EU_top_words_df.loc[EU_top_words_df['Consumer groups'] == 2, 'Consumer groups'] = 'Muscle building & Workout'"
   ]
  },
  {
   "cell_type": "code",
   "execution_count": 159,
   "id": "ce682ea4",
   "metadata": {},
   "outputs": [
    {
     "data": {
      "image/png": "[encoded data removed]",
      "text/plain": [
       "<Figure size 1080x360 with 1 Axes>"
      ]
     },
     "metadata": {},
     "output_type": "display_data"
    }
   ],
   "source": [
    "fig = EU_top_words_df.groupby('Consumer groups').sum().transpose().\\\n",
    "         plot(kind='bar', figsize=(15, 5), width=0.7)\n",
    "fig.set_ylabel('Word frequency')\n",
    "fig.set_title(f'Word Frequencies by Targeted Consumer Groups, Combining the Top {len(EU_top_words_index)} Words in Each Group')\n",
    "figure = fig.get_figure()\n",
    "\n",
    "figure.savefig('EU_words.png')"
   ]
  },
  {
   "cell_type": "code",
   "execution_count": 84,
   "id": "bb78bdb8",
   "metadata": {},
   "outputs": [],
   "source": [
    "EU_3_topics = pyLDAvis.gensim_models.prepare(EU_lda_3, EU_corpus, dictionary = EU_lda_3.id2word)"
   ]
  },
  {
   "cell_type": "code",
   "execution_count": null,
   "id": "d074e940",
   "metadata": {},
   "outputs": [],
   "source": [
    "EU_3_topics"
   ]
  },
  {
   "cell_type": "markdown",
   "id": "56bcbd69",
   "metadata": {},
   "source": [
    "## Most Common Ingredients Used for Each Group of Products with the Same Features"
   ]
  },
  {
   "cell_type": "code",
   "execution_count": 161,
   "id": "23549ddf",
   "metadata": {},
   "outputs": [],
   "source": [
    "# Build the dataframe\n",
    "df = main_topic_df[['Dominant_topic', 'Percent']]\n",
    "features_ingredients = df.rename(columns = {'Dominant_topic': 'dominant_feature', 'Percent': 'per_domination'})\n",
    "features_ingredients['ingredients'] = new_product_data.dropna(subset=['Claims/Features'])['Ingredients'].astype('string') \\\n",
    "                                        .reset_index(drop = True)  # need to drop index from the 'Ingredients' column, otherwise data is lost\n",
    "final_df = features_ingredients.dropna()"
   ]
  },
  {
   "cell_type": "code",
   "execution_count": 162,
   "id": "ba739a64",
   "metadata": {},
   "outputs": [
    {
     "data": {
      "text/html": [
       "<div>\n",
       "<style scoped>\n",
       "    .dataframe tbody tr th:only-of-type {\n",
       "        vertical-align: middle;\n",
       "    }\n",
       "\n",
       "    .dataframe tbody tr th {\n",
       "        vertical-align: top;\n",
       "    }\n",
       "\n",
       "    .dataframe thead th {\n",
       "        text-align: right;\n",
       "    }\n",
       "</style>\n",
       "<table border=\"1\" class=\"dataframe\">\n",
       "  <thead>\n",
       "    <tr style=\"text-align: right;\">\n",
       "      <th></th>\n",
       "      <th>dominant_feature</th>\n",
       "      <th>per_domination</th>\n",
       "      <th>ingredients</th>\n",
       "    </tr>\n",
       "  </thead>\n",
       "  <tbody>\n",
       "    <tr>\n",
       "      <th>1</th>\n",
       "      <td>2</td>\n",
       "      <td>0.814</td>\n",
       "      <td>BCAA (leucine, isoleucine, valine), beta-alani...</td>\n",
       "    </tr>\n",
       "    <tr>\n",
       "      <th>2</th>\n",
       "      <td>0</td>\n",
       "      <td>0.984</td>\n",
       "      <td>Whey protein hydrolysate (milk), flavors, acid...</td>\n",
       "    </tr>\n",
       "    <tr>\n",
       "      <th>3</th>\n",
       "      <td>2</td>\n",
       "      <td>0.952</td>\n",
       "      <td>N-acetyl-l-tyrosine, acetyl-l-carnitine hydroc...</td>\n",
       "    </tr>\n",
       "    <tr>\n",
       "      <th>4</th>\n",
       "      <td>2</td>\n",
       "      <td>0.951</td>\n",
       "      <td>N-acetyl-l-tyrosine, acetyl-l-carnitine hydroc...</td>\n",
       "    </tr>\n",
       "    <tr>\n",
       "      <th>5</th>\n",
       "      <td>2</td>\n",
       "      <td>0.951</td>\n",
       "      <td>N-acetyl-l-tyrosine, acetyl-l-carnitine hydroc...</td>\n",
       "    </tr>\n",
       "  </tbody>\n",
       "</table>\n",
       "</div>"
      ],
      "text/plain": [
       "   dominant_feature  per_domination   \n",
       "1                 2           0.814  \\\n",
       "2                 0           0.984   \n",
       "3                 2           0.952   \n",
       "4                 2           0.951   \n",
       "5                 2           0.951   \n",
       "\n",
       "                                         ingredients  \n",
       "1  BCAA (leucine, isoleucine, valine), beta-alani...  \n",
       "2  Whey protein hydrolysate (milk), flavors, acid...  \n",
       "3  N-acetyl-l-tyrosine, acetyl-l-carnitine hydroc...  \n",
       "4  N-acetyl-l-tyrosine, acetyl-l-carnitine hydroc...  \n",
       "5  N-acetyl-l-tyrosine, acetyl-l-carnitine hydroc...  "
      ]
     },
     "execution_count": 162,
     "metadata": {},
     "output_type": "execute_result"
    }
   ],
   "source": [
    "final_df.head()"
   ]
  },
  {
   "cell_type": "code",
   "execution_count": 163,
   "id": "a0a8ab4f",
   "metadata": {},
   "outputs": [],
   "source": [
    "ingredient_stop_words = ['flavor', 'color', 'acid', 'sweetener', 'sugar', 'freshness', 'preservative', 'other ingredient', \n",
    "                         'less than', 'mineral', 'antioxidant', 'salt', 'water', 'sodium chloride', '5%',\n",
    "                         'sucrose', 'sucralose', 'acesulfame', 'fructose', 'stevia', 'monk fruit']\n",
    "\n",
    "def has_numbers(string):                           # a function to determine if the ingredient token has numbers\n",
    "    return any(char.isdigit() for char in string)\n",
    "\n",
    "# Build ingredients tokenizer + token cleaner\n",
    "def splitter_cleaner(line):\n",
    "    parens = 0\n",
    "    low = 0\n",
    "    high = 0\n",
    "    out = []\n",
    "    \n",
    "    for i, c in enumerate(line):\n",
    "        if c == '(':\n",
    "            parens += 1\n",
    "        elif c == ')':\n",
    "            parens -= 1\n",
    "            if parens < 0:\n",
    "                parens = 0\n",
    "        elif (c == ',' or c =='.') and parens == 0:\n",
    "            high = i\n",
    "            word = line[low:high].strip().lower()\n",
    "            in_stopwords = False\n",
    "            for w in ingredient_stop_words:\n",
    "                if w in word:\n",
    "                    in_stopwords = in_stopwords or True\n",
    "            if word!= None and (not in_stopwords) and (not has_numbers(word)):       \n",
    "                if word.startswith('l-'):            # remove 'l-' from 'l-amino acid'\n",
    "                    word = word[2:]                        \n",
    "                    out.append(word)\n",
    "                elif word.startswith('organic '):        # remove 'organic' from 'organic (ingredient)'\n",
    "                    word = word[8:] \n",
    "                    out.append(word)\n",
    "                elif word.endswith(' (bcaa)'):        # remove '(bcaa)' from 'amino aicd (bcaa)'\n",
    "                    word = word[:-7] \n",
    "                    out.append(word)\n",
    "                elif word.startswith('emulsifier ('):        # remove 'emulsifier ()' from 'emulsifier (...)'\n",
    "                    word = word[12:-1] \n",
    "                    out.append(word)\n",
    "                elif word.startswith('emulsifier: '):\n",
    "                    word = word[12:] \n",
    "                    out.append(word)\n",
    "                elif word.startswith('stabilizer ('):        # remove 'stabilizer ()' from 'stabilizer (...)'\n",
    "                    word = word[12:-1] \n",
    "                    out.append(word)\n",
    "                elif word.startswith('stabilizer: '):\n",
    "                    word = word[12:] \n",
    "                    out.append(word)\n",
    "                elif word.startswith('thickener ('):        # remove 'thickener ()' from 'thickener (...)'\n",
    "                    word = word[11:-1] \n",
    "                    out.append(word)    \n",
    "                elif word == 'pea protein isolate':        # combine the count of 'pea protein' and 'pea protein isolate'\n",
    "                    word = 'pea protein'\n",
    "                    out.append(word)    \n",
    "                out.append(word)\n",
    "            low = i + 1\n",
    "    \n",
    "    return out"
   ]
  },
  {
   "cell_type": "code",
   "execution_count": 164,
   "id": "edd13b37",
   "metadata": {},
   "outputs": [],
   "source": [
    "vectorizer = CountVectorizer(tokenizer = splitter_cleaner,\n",
    "                                    token_pattern = None,)"
   ]
  },
  {
   "cell_type": "code",
   "execution_count": 165,
   "id": "b8667ac7",
   "metadata": {},
   "outputs": [],
   "source": [
    "ingredients_vec = vectorizer.fit_transform(final_df['ingredients'])\n",
    "\n",
    "ingredients = vectorizer.get_feature_names_out()\n",
    "counts = np.array(np.sum(ingredients_vec, axis=0))\n",
    "\n",
    "ingredients_df = pd.DataFrame(zip(ingredients, counts[0]))\n",
    "ingredients_df.columns = ['ingredient', 'count']\n",
    "ingredients_df['frequency'] = ingredients_df['count'] / ingredients_df['count'].sum()"
   ]
  },
  {
   "cell_type": "code",
   "execution_count": 55,
   "id": "61121f16",
   "metadata": {
    "scrolled": true
   },
   "outputs": [
    {
     "data": {
      "text/html": [
       "<div>\n",
       "<style scoped>\n",
       "    .dataframe tbody tr th:only-of-type {\n",
       "        vertical-align: middle;\n",
       "    }\n",
       "\n",
       "    .dataframe tbody tr th {\n",
       "        vertical-align: top;\n",
       "    }\n",
       "\n",
       "    .dataframe thead th {\n",
       "        text-align: right;\n",
       "    }\n",
       "</style>\n",
       "<table border=\"1\" class=\"dataframe\">\n",
       "  <thead>\n",
       "    <tr style=\"text-align: right;\">\n",
       "      <th></th>\n",
       "      <th>ingredient</th>\n",
       "      <th>count</th>\n",
       "      <th>frequency</th>\n",
       "    </tr>\n",
       "  </thead>\n",
       "  <tbody>\n",
       "    <tr>\n",
       "      <th>6998</th>\n",
       "      <td>valine</td>\n",
       "      <td>1987</td>\n",
       "      <td>0.025760</td>\n",
       "    </tr>\n",
       "    <tr>\n",
       "      <th>3865</th>\n",
       "      <td>leucine</td>\n",
       "      <td>1909</td>\n",
       "      <td>0.024749</td>\n",
       "    </tr>\n",
       "    <tr>\n",
       "      <th>3615</th>\n",
       "      <td>isoleucine</td>\n",
       "      <td>1896</td>\n",
       "      <td>0.024581</td>\n",
       "    </tr>\n",
       "    <tr>\n",
       "      <th>6968</th>\n",
       "      <td>tyrosine</td>\n",
       "      <td>1665</td>\n",
       "      <td>0.021586</td>\n",
       "    </tr>\n",
       "    <tr>\n",
       "      <th>6505</th>\n",
       "      <td>sunflower lecithin</td>\n",
       "      <td>1557</td>\n",
       "      <td>0.020186</td>\n",
       "    </tr>\n",
       "    <tr>\n",
       "      <th>2906</th>\n",
       "      <td>gellan gum</td>\n",
       "      <td>1525</td>\n",
       "      <td>0.019771</td>\n",
       "    </tr>\n",
       "    <tr>\n",
       "      <th>4319</th>\n",
       "      <td>methionine</td>\n",
       "      <td>1510</td>\n",
       "      <td>0.019576</td>\n",
       "    </tr>\n",
       "    <tr>\n",
       "      <th>5075</th>\n",
       "      <td>phenylalanine</td>\n",
       "      <td>1477</td>\n",
       "      <td>0.019148</td>\n",
       "    </tr>\n",
       "    <tr>\n",
       "      <th>6920</th>\n",
       "      <td>tryptophan</td>\n",
       "      <td>1468</td>\n",
       "      <td>0.019032</td>\n",
       "    </tr>\n",
       "    <tr>\n",
       "      <th>6800</th>\n",
       "      <td>threonine</td>\n",
       "      <td>1390</td>\n",
       "      <td>0.018021</td>\n",
       "    </tr>\n",
       "    <tr>\n",
       "      <th>555</th>\n",
       "      <td>arginine</td>\n",
       "      <td>1380</td>\n",
       "      <td>0.017891</td>\n",
       "    </tr>\n",
       "    <tr>\n",
       "      <th>7448</th>\n",
       "      <td>xanthan gum</td>\n",
       "      <td>1333</td>\n",
       "      <td>0.017282</td>\n",
       "    </tr>\n",
       "    <tr>\n",
       "      <th>3404</th>\n",
       "      <td>histidine</td>\n",
       "      <td>1260</td>\n",
       "      <td>0.016335</td>\n",
       "    </tr>\n",
       "    <tr>\n",
       "      <th>3994</th>\n",
       "      <td>lysine</td>\n",
       "      <td>1206</td>\n",
       "      <td>0.015635</td>\n",
       "    </tr>\n",
       "    <tr>\n",
       "      <th>6523</th>\n",
       "      <td>sunflower oil</td>\n",
       "      <td>1138</td>\n",
       "      <td>0.014754</td>\n",
       "    </tr>\n",
       "    <tr>\n",
       "      <th>3067</th>\n",
       "      <td>glycine</td>\n",
       "      <td>1090</td>\n",
       "      <td>0.014131</td>\n",
       "    </tr>\n",
       "    <tr>\n",
       "      <th>3004</th>\n",
       "      <td>glutamine</td>\n",
       "      <td>1081</td>\n",
       "      <td>0.014015</td>\n",
       "    </tr>\n",
       "    <tr>\n",
       "      <th>5370</th>\n",
       "      <td>proline</td>\n",
       "      <td>1052</td>\n",
       "      <td>0.013639</td>\n",
       "    </tr>\n",
       "    <tr>\n",
       "      <th>4964</th>\n",
       "      <td>pea protein</td>\n",
       "      <td>992</td>\n",
       "      <td>0.012861</td>\n",
       "    </tr>\n",
       "    <tr>\n",
       "      <th>5958</th>\n",
       "      <td>serine</td>\n",
       "      <td>980</td>\n",
       "      <td>0.012705</td>\n",
       "    </tr>\n",
       "    <tr>\n",
       "      <th>2139</th>\n",
       "      <td>cysteine</td>\n",
       "      <td>874</td>\n",
       "      <td>0.011331</td>\n",
       "    </tr>\n",
       "    <tr>\n",
       "      <th>4140</th>\n",
       "      <td>maltodextrin</td>\n",
       "      <td>858</td>\n",
       "      <td>0.011123</td>\n",
       "    </tr>\n",
       "    <tr>\n",
       "      <th>1276</th>\n",
       "      <td>calcium carbonate</td>\n",
       "      <td>763</td>\n",
       "      <td>0.009892</td>\n",
       "    </tr>\n",
       "    <tr>\n",
       "      <th>6139</th>\n",
       "      <td>soy lecithin</td>\n",
       "      <td>615</td>\n",
       "      <td>0.007973</td>\n",
       "    </tr>\n",
       "    <tr>\n",
       "      <th>6661</th>\n",
       "      <td>taurine</td>\n",
       "      <td>592</td>\n",
       "      <td>0.007675</td>\n",
       "    </tr>\n",
       "    <tr>\n",
       "      <th>230</th>\n",
       "      <td>alanine</td>\n",
       "      <td>545</td>\n",
       "      <td>0.007066</td>\n",
       "    </tr>\n",
       "    <tr>\n",
       "      <th>3232</th>\n",
       "      <td>guar gum</td>\n",
       "      <td>535</td>\n",
       "      <td>0.006936</td>\n",
       "    </tr>\n",
       "    <tr>\n",
       "      <th>1701</th>\n",
       "      <td>citrulline</td>\n",
       "      <td>492</td>\n",
       "      <td>0.006379</td>\n",
       "    </tr>\n",
       "    <tr>\n",
       "      <th>3547</th>\n",
       "      <td>inulin</td>\n",
       "      <td>460</td>\n",
       "      <td>0.005964</td>\n",
       "    </tr>\n",
       "    <tr>\n",
       "      <th>1776</th>\n",
       "      <td>cocoa powder</td>\n",
       "      <td>418</td>\n",
       "      <td>0.005419</td>\n",
       "    </tr>\n",
       "    <tr>\n",
       "      <th>869</th>\n",
       "      <td>beta-alanine</td>\n",
       "      <td>409</td>\n",
       "      <td>0.005302</td>\n",
       "    </tr>\n",
       "    <tr>\n",
       "      <th>438</th>\n",
       "      <td>anti-caking agent (silicon dioxide)</td>\n",
       "      <td>346</td>\n",
       "      <td>0.004486</td>\n",
       "    </tr>\n",
       "    <tr>\n",
       "      <th>6878</th>\n",
       "      <td>tricalcium phosphate</td>\n",
       "      <td>346</td>\n",
       "      <td>0.004486</td>\n",
       "    </tr>\n",
       "    <tr>\n",
       "      <th>6683</th>\n",
       "      <td>theanine</td>\n",
       "      <td>330</td>\n",
       "      <td>0.004278</td>\n",
       "    </tr>\n",
       "    <tr>\n",
       "      <th>5255</th>\n",
       "      <td>potassium citrate</td>\n",
       "      <td>325</td>\n",
       "      <td>0.004213</td>\n",
       "    </tr>\n",
       "    <tr>\n",
       "      <th>7227</th>\n",
       "      <td>vitamin d</td>\n",
       "      <td>312</td>\n",
       "      <td>0.004045</td>\n",
       "    </tr>\n",
       "    <tr>\n",
       "      <th>1172</th>\n",
       "      <td>caffeine</td>\n",
       "      <td>303</td>\n",
       "      <td>0.003928</td>\n",
       "    </tr>\n",
       "    <tr>\n",
       "      <th>6061</th>\n",
       "      <td>sodium citrate</td>\n",
       "      <td>297</td>\n",
       "      <td>0.003850</td>\n",
       "    </tr>\n",
       "    <tr>\n",
       "      <th>5999</th>\n",
       "      <td>silicon dioxide</td>\n",
       "      <td>294</td>\n",
       "      <td>0.003812</td>\n",
       "    </tr>\n",
       "    <tr>\n",
       "      <th>2090</th>\n",
       "      <td>creatine monohydrate</td>\n",
       "      <td>293</td>\n",
       "      <td>0.003799</td>\n",
       "    </tr>\n",
       "    <tr>\n",
       "      <th>1196</th>\n",
       "      <td>caffeine anhydrous</td>\n",
       "      <td>268</td>\n",
       "      <td>0.003474</td>\n",
       "    </tr>\n",
       "    <tr>\n",
       "      <th>1714</th>\n",
       "      <td>citrulline malate</td>\n",
       "      <td>264</td>\n",
       "      <td>0.003423</td>\n",
       "    </tr>\n",
       "    <tr>\n",
       "      <th>5252</th>\n",
       "      <td>potassium chloride</td>\n",
       "      <td>247</td>\n",
       "      <td>0.003202</td>\n",
       "    </tr>\n",
       "    <tr>\n",
       "      <th>4096</th>\n",
       "      <td>magnesium citrate</td>\n",
       "      <td>225</td>\n",
       "      <td>0.002917</td>\n",
       "    </tr>\n",
       "    <tr>\n",
       "      <th>3946</th>\n",
       "      <td>locust bean gum</td>\n",
       "      <td>222</td>\n",
       "      <td>0.002878</td>\n",
       "    </tr>\n",
       "    <tr>\n",
       "      <th>5579</th>\n",
       "      <td>pyridoxine hydrochloride</td>\n",
       "      <td>215</td>\n",
       "      <td>0.002787</td>\n",
       "    </tr>\n",
       "    <tr>\n",
       "      <th>7359</th>\n",
       "      <td>whey protein concentrate (milk)</td>\n",
       "      <td>204</td>\n",
       "      <td>0.002645</td>\n",
       "    </tr>\n",
       "    <tr>\n",
       "      <th>5621</th>\n",
       "      <td>rapeseed oil</td>\n",
       "      <td>200</td>\n",
       "      <td>0.002593</td>\n",
       "    </tr>\n",
       "    <tr>\n",
       "      <th>7240</th>\n",
       "      <td>vitamin e</td>\n",
       "      <td>190</td>\n",
       "      <td>0.002463</td>\n",
       "    </tr>\n",
       "    <tr>\n",
       "      <th>7219</th>\n",
       "      <td>vitamin c</td>\n",
       "      <td>187</td>\n",
       "      <td>0.002424</td>\n",
       "    </tr>\n",
       "    <tr>\n",
       "      <th>2131</th>\n",
       "      <td>cyanocobalamin</td>\n",
       "      <td>175</td>\n",
       "      <td>0.002269</td>\n",
       "    </tr>\n",
       "    <tr>\n",
       "      <th>2234</th>\n",
       "      <td>dextrose</td>\n",
       "      <td>174</td>\n",
       "      <td>0.002256</td>\n",
       "    </tr>\n",
       "    <tr>\n",
       "      <th>2638</th>\n",
       "      <td>fat-reduced cocoa powder</td>\n",
       "      <td>172</td>\n",
       "      <td>0.002230</td>\n",
       "    </tr>\n",
       "    <tr>\n",
       "      <th>2144</th>\n",
       "      <td>cystine</td>\n",
       "      <td>171</td>\n",
       "      <td>0.002217</td>\n",
       "    </tr>\n",
       "    <tr>\n",
       "      <th>1438</th>\n",
       "      <td>carrageenan</td>\n",
       "      <td>165</td>\n",
       "      <td>0.002139</td>\n",
       "    </tr>\n",
       "    <tr>\n",
       "      <th>7518</th>\n",
       "      <td>zinc gluconate</td>\n",
       "      <td>165</td>\n",
       "      <td>0.002139</td>\n",
       "    </tr>\n",
       "    <tr>\n",
       "      <th>5797</th>\n",
       "      <td>rice protein</td>\n",
       "      <td>165</td>\n",
       "      <td>0.002139</td>\n",
       "    </tr>\n",
       "    <tr>\n",
       "      <th>7193</th>\n",
       "      <td>vitamin a</td>\n",
       "      <td>156</td>\n",
       "      <td>0.002022</td>\n",
       "    </tr>\n",
       "    <tr>\n",
       "      <th>5768</th>\n",
       "      <td>riboflavin</td>\n",
       "      <td>155</td>\n",
       "      <td>0.002009</td>\n",
       "    </tr>\n",
       "    <tr>\n",
       "      <th>2364</th>\n",
       "      <td>dipotassium phosphate</td>\n",
       "      <td>149</td>\n",
       "      <td>0.001932</td>\n",
       "    </tr>\n",
       "  </tbody>\n",
       "</table>\n",
       "</div>"
      ],
      "text/plain": [
       "                               ingredient  count  frequency\n",
       "6998                               valine   1987   0.025760\n",
       "3865                              leucine   1909   0.024749\n",
       "3615                           isoleucine   1896   0.024581\n",
       "6968                             tyrosine   1665   0.021586\n",
       "6505                   sunflower lecithin   1557   0.020186\n",
       "2906                           gellan gum   1525   0.019771\n",
       "4319                           methionine   1510   0.019576\n",
       "5075                        phenylalanine   1477   0.019148\n",
       "6920                           tryptophan   1468   0.019032\n",
       "6800                            threonine   1390   0.018021\n",
       "555                              arginine   1380   0.017891\n",
       "7448                          xanthan gum   1333   0.017282\n",
       "3404                            histidine   1260   0.016335\n",
       "3994                               lysine   1206   0.015635\n",
       "6523                        sunflower oil   1138   0.014754\n",
       "3067                              glycine   1090   0.014131\n",
       "3004                            glutamine   1081   0.014015\n",
       "5370                              proline   1052   0.013639\n",
       "4964                          pea protein    992   0.012861\n",
       "5958                               serine    980   0.012705\n",
       "2139                             cysteine    874   0.011331\n",
       "4140                         maltodextrin    858   0.011123\n",
       "1276                    calcium carbonate    763   0.009892\n",
       "6139                         soy lecithin    615   0.007973\n",
       "6661                              taurine    592   0.007675\n",
       "230                               alanine    545   0.007066\n",
       "3232                             guar gum    535   0.006936\n",
       "1701                           citrulline    492   0.006379\n",
       "3547                               inulin    460   0.005964\n",
       "1776                         cocoa powder    418   0.005419\n",
       "869                          beta-alanine    409   0.005302\n",
       "438   anti-caking agent (silicon dioxide)    346   0.004486\n",
       "6878                 tricalcium phosphate    346   0.004486\n",
       "6683                             theanine    330   0.004278\n",
       "5255                    potassium citrate    325   0.004213\n",
       "7227                            vitamin d    312   0.004045\n",
       "1172                             caffeine    303   0.003928\n",
       "6061                       sodium citrate    297   0.003850\n",
       "5999                      silicon dioxide    294   0.003812\n",
       "2090                 creatine monohydrate    293   0.003799\n",
       "1196                   caffeine anhydrous    268   0.003474\n",
       "1714                    citrulline malate    264   0.003423\n",
       "5252                   potassium chloride    247   0.003202\n",
       "4096                    magnesium citrate    225   0.002917\n",
       "3946                      locust bean gum    222   0.002878\n",
       "5579             pyridoxine hydrochloride    215   0.002787\n",
       "7359      whey protein concentrate (milk)    204   0.002645\n",
       "5621                         rapeseed oil    200   0.002593\n",
       "7240                            vitamin e    190   0.002463\n",
       "7219                            vitamin c    187   0.002424\n",
       "2131                       cyanocobalamin    175   0.002269\n",
       "2234                             dextrose    174   0.002256\n",
       "2638             fat-reduced cocoa powder    172   0.002230\n",
       "2144                              cystine    171   0.002217\n",
       "1438                          carrageenan    165   0.002139\n",
       "7518                       zinc gluconate    165   0.002139\n",
       "5797                         rice protein    165   0.002139\n",
       "7193                            vitamin a    156   0.002022\n",
       "5768                           riboflavin    155   0.002009\n",
       "2364                dipotassium phosphate    149   0.001932"
      ]
     },
     "execution_count": 55,
     "metadata": {},
     "output_type": "execute_result"
    }
   ],
   "source": [
    "ingredients_df.sort_values(by = 'frequency', ascending = False)[:60]"
   ]
  },
  {
   "cell_type": "code",
   "execution_count": 167,
   "id": "40c2ee23",
   "metadata": {},
   "outputs": [],
   "source": [
    "from sklearn.feature_extraction.text import TfidfVectorizer\n",
    "from sklearn.naive_bayes import MultinomialNB\n",
    "from sklearn.model_selection import GridSearchCV\n",
    "from sklearn.pipeline import Pipeline\n",
    "\n",
    "idf_vectorizer = TfidfVectorizer(tokenizer = splitter_cleaner,\n",
    "                                    token_pattern = None,\n",
    "                                    min_df = 2,\n",
    "                                    max_df = 0.95)\n",
    "\n",
    "optimize_pipe = Pipeline([('idf_vectorizer', idf_vectorizer),\n",
    "                 ('classifier', MultinomialNB())    \n",
    "                ])\n",
    "\n",
    "best_alpha = GridSearchCV(optimize_pipe, {'classifier__alpha': [0.01, 0.02, 0.05, 0.1]}, cv = 5, n_jobs = -1)\n",
    "\n",
    "results = best_alpha.fit(final_df['ingredients'], final_df['dominant_feature'])"
   ]
  },
  {
   "cell_type": "code",
   "execution_count": 168,
   "id": "8a1607cf",
   "metadata": {},
   "outputs": [
    {
     "data": {
      "text/plain": [
       "(0.7546273357763712, {'classifier__alpha': 0.05})"
      ]
     },
     "execution_count": 168,
     "metadata": {},
     "output_type": "execute_result"
    }
   ],
   "source": [
    "results.best_score_, results.best_params_"
   ]
  },
  {
   "cell_type": "code",
   "execution_count": 60,
   "id": "14cae959",
   "metadata": {},
   "outputs": [
    {
     "name": "stdout",
     "output_type": "stream",
     "text": [
      "[0 1 2]\n"
     ]
    }
   ],
   "source": [
    "print(results.classes_)"
   ]
  },
  {
   "cell_type": "code",
   "execution_count": 169,
   "id": "6192f2a7",
   "metadata": {},
   "outputs": [],
   "source": [
    "vectorizer = TfidfVectorizer(tokenizer = splitter_cleaner,\n",
    "                                    token_pattern = None,\n",
    "                                    min_df = 5,\n",
    "                                    max_df = 0.95)\n",
    "bag_of_words = vectorizer.fit_transform(final_df['ingredients'])\n",
    "classifier = MultinomialNB(alpha=0.05)\n",
    "ingredients_model = classifier.fit(bag_of_words, final_df['dominant_feature'])\n",
    "\n",
    "popular_ingredients = pd.DataFrame((zip(vectorizer.get_feature_names_out(), ingredients_model.feature_log_prob_[0],\n",
    "                                        ingredients_model.feature_log_prob_[1], ingredients_model.feature_log_prob_[2])))\n",
    "popular_ingredients.columns = ['ingredients', 'feature_1', 'feature_2', 'feature_3']"
   ]
  },
  {
   "cell_type": "code",
   "execution_count": 170,
   "id": "127e1bcc",
   "metadata": {
    "scrolled": true
   },
   "outputs": [
    {
     "data": {
      "text/html": [
       "<div>\n",
       "<style scoped>\n",
       "    .dataframe tbody tr th:only-of-type {\n",
       "        vertical-align: middle;\n",
       "    }\n",
       "\n",
       "    .dataframe tbody tr th {\n",
       "        vertical-align: top;\n",
       "    }\n",
       "\n",
       "    .dataframe thead th {\n",
       "        text-align: right;\n",
       "    }\n",
       "</style>\n",
       "<table border=\"1\" class=\"dataframe\">\n",
       "  <thead>\n",
       "    <tr style=\"text-align: right;\">\n",
       "      <th></th>\n",
       "      <th>ingredients</th>\n",
       "      <th>feature_1</th>\n",
       "      <th>feature_2</th>\n",
       "      <th>feature_3</th>\n",
       "    </tr>\n",
       "  </thead>\n",
       "  <tbody>\n",
       "    <tr>\n",
       "      <th>0</th>\n",
       "      <td></td>\n",
       "      <td>-8.739977</td>\n",
       "      <td>-9.295941</td>\n",
       "      <td>-9.175859</td>\n",
       "    </tr>\n",
       "    <tr>\n",
       "      <th>1</th>\n",
       "      <td>(aquamin)</td>\n",
       "      <td>-11.919870</td>\n",
       "      <td>-9.651244</td>\n",
       "      <td>-8.393839</td>\n",
       "    </tr>\n",
       "    <tr>\n",
       "      <th>2</th>\n",
       "      <td>(l-leucine, l-isoleucine, l-valine)]</td>\n",
       "      <td>-7.948806</td>\n",
       "      <td>-11.794488</td>\n",
       "      <td>-11.639113</td>\n",
       "    </tr>\n",
       "    <tr>\n",
       "      <th>3</th>\n",
       "      <td>acacia</td>\n",
       "      <td>-11.919870</td>\n",
       "      <td>-7.953933</td>\n",
       "      <td>-7.414200</td>\n",
       "    </tr>\n",
       "    <tr>\n",
       "      <th>4</th>\n",
       "      <td>acacia fiber</td>\n",
       "      <td>-7.482431</td>\n",
       "      <td>-6.042397</td>\n",
       "      <td>-7.800635</td>\n",
       "    </tr>\n",
       "  </tbody>\n",
       "</table>\n",
       "</div>"
      ],
      "text/plain": [
       "                            ingredients  feature_1  feature_2  feature_3\n",
       "0                                        -8.739977  -9.295941  -9.175859\n",
       "1                             (aquamin) -11.919870  -9.651244  -8.393839\n",
       "2  (l-leucine, l-isoleucine, l-valine)]  -7.948806 -11.794488 -11.639113\n",
       "3                                acacia -11.919870  -7.953933  -7.414200\n",
       "4                          acacia fiber  -7.482431  -6.042397  -7.800635"
      ]
     },
     "execution_count": 170,
     "metadata": {},
     "output_type": "execute_result"
    }
   ],
   "source": [
    "popular_ingredients.head()"
   ]
  },
  {
   "cell_type": "code",
   "execution_count": 180,
   "id": "97ccc548",
   "metadata": {},
   "outputs": [
    {
     "data": {
      "text/plain": [
       "'xanthan gum, valine, leucine, isoleucine, methionine, tryptophan, threonine, phenylalanine, histidine, lysine, arginine, proline, glycine, serine, tyrosine, sunflower lecithin, soy lecithin, cysteine, pea protein, glutamine, alanine, inulin, cocoa powder, maltodextrin, whey protein concentrate (milk)'"
      ]
     },
     "execution_count": 180,
     "metadata": {},
     "output_type": "execute_result"
    }
   ],
   "source": [
    "Feature_1_ingredients = popular_ingredients.sort_values(by=['feature_1'], ascending=False)['ingredients'][:25].tolist()\n",
    "string = ', '.join(Feature_1_ingredients)\n",
    "string"
   ]
  },
  {
   "cell_type": "code",
   "execution_count": 181,
   "id": "66e5182c",
   "metadata": {},
   "outputs": [
    {
     "data": {
      "text/plain": [
       "'gellan gum, sunflower oil, sunflower lecithin, calcium carbonate, tricalcium phosphate, vitamin d, pea protein, rapeseed oil, guar gum, locust bean gum, maltodextrin, xanthan gum, dipotassium phosphate, calcium phosphate, calcium, vitamin e, vitamin a palmitate, gellan, vitamin a, carrageenan, cocoa powder, almonds, inulin, zinc gluconate, potassium citrate'"
      ]
     },
     "execution_count": 181,
     "metadata": {},
     "output_type": "execute_result"
    }
   ],
   "source": [
    "Feature_2_ingredients = popular_ingredients.sort_values(by=['feature_2'], ascending=False)['ingredients'][:25].tolist()\n",
    "string = ', '.join(Feature_2_ingredients)\n",
    "string"
   ]
  },
  {
   "cell_type": "code",
   "execution_count": 182,
   "id": "39eeef0f",
   "metadata": {},
   "outputs": [
    {
     "data": {
      "text/plain": [
       "'taurine, tyrosine, isoleucine, valine, citrulline, leucine, maltodextrin, silicon dioxide, beta-alanine, glutamine, theanine, sodium citrate, citrulline malate, creatine monohydrate, potassium citrate, caffeine, caffeine anhydrous, arginine, cluster dextrin (maltodextrin), anti-caking agent (silicon dioxide), sunflower lecithin, palatinose (isomaltulose), potassium chloride, magnesium citrate, calcium silicate, phenylalanine, tryptophan, dextrose, xanthan gum, threonine'"
      ]
     },
     "execution_count": 182,
     "metadata": {},
     "output_type": "execute_result"
    }
   ],
   "source": [
    "Feature_3_ingredients = popular_ingredients.sort_values(by=['feature_3'], ascending=False)['ingredients'][:30].tolist()\n",
    "string = ', '.join(Feature_3_ingredients)\n",
    "string"
   ]
  },
  {
   "cell_type": "markdown",
   "id": "e54c59a4",
   "metadata": {},
   "source": [
    "## Topic modeling of 'Product features/claims' by K-means clustering method"
   ]
  },
  {
   "cell_type": "code",
   "execution_count": null,
   "id": "f7bba8d7",
   "metadata": {},
   "outputs": [],
   "source": [
    "import spacy\n",
    "nlp = spacy.load('en_core_web_sm', disable=['parser','ner','textcat'])\n",
    "\n",
    "# Gave up lemmatizer as it created issues\n",
    "def my_tokenizer(doc):                                             # Build custom tokenizer\n",
    "    return ' '.join(re.findall(r'\\b\\D[a-zA-Z\\'\\/\\-]*\\b', doc)).lower().split()\n",
    "    #return [ w.lemma_.lower() for w in nlp(doc_cleaned) \n",
    "                      #if w.lemma_ not in ['_', '.', '-',' ','-PRON-'] ]\n",
    "\n",
    "stopwords = spacy.lang.en.stop_words.STOP_WORDS                     \n",
    "#stopwords = stopwords.difference({'he','his','her','hers'}) # Removing a few words that don't lemmatize well\n",
    "stopwords.update(['v', 'l', 'mg', 'base', 'free', 'pre', 'add', 'serve', 'beta', 'contain', '.',\n",
    "                 'd', 'll', 'm', 'n', 's', 've', '‘t', '’t', 't', ':']) # Customize the stopwords\n",
    "  "
   ]
  },
  {
   "cell_type": "code",
   "execution_count": null,
   "id": "04272adc",
   "metadata": {},
   "outputs": [],
   "source": [
    "# Vectorize the text and determine weight of the tokens\n",
    "from sklearn.feature_extraction.text import CountVectorizer, TfidfTransformer\n",
    "import numpy as np\n",
    "\n",
    "max_features = 2000\n",
    "\n",
    "vectorizer = CountVectorizer(tokenizer=my_tokenizer, stop_words=list(stopwords),\n",
    "                             #ngram_range=(1,2),\n",
    "                             min_df=2, max_df=0.95, max_features=max_features,\n",
    "                             token_pattern=None)\n",
    "counts = vectorizer.fit_transform(product_features['Claims/Features'])\n",
    "\n",
    "idf = TfidfTransformer()\n",
    "idf_matrix = idf.fit_transform(counts)"
   ]
  },
  {
   "cell_type": "code",
   "execution_count": null,
   "id": "359eee76",
   "metadata": {},
   "outputs": [],
   "source": [
    "words = vectorizer.get_feature_names_out()\n",
    "print('g' in words)  "
   ]
  },
  {
   "cell_type": "code",
   "execution_count": null,
   "id": "ab809e0e",
   "metadata": {},
   "outputs": [],
   "source": [
    "# Determine clusters of product features/claims using K-means clustering\n",
    "number_of_clusters = 5\n",
    "\n",
    "kmc_5 = KMeans(n_clusters=number_of_clusters, n_init=3, random_state=117)  # random_state for consistency\n",
    "kmc_5.fit(idf_matrix)"
   ]
  },
  {
   "cell_type": "code",
   "execution_count": null,
   "id": "34fcd7b3",
   "metadata": {},
   "outputs": [],
   "source": [
    "# Check list of words for each cluster\n",
    "\n",
    "number_of_top_words = 10\n",
    "\n",
    "cluster_words = np.argsort(kmc_5.cluster_centers_, axis=1)\n",
    "words = vectorizer.get_feature_names_out()\n",
    "\n",
    "top_words = set()\n",
    "\n",
    "for i in range(number_of_clusters):\n",
    "    print(f'Cluster {i}: ')\n",
    "    print(', '.join([words[k] for k in cluster_words[i][-number_of_top_words:]]),'\\n')\n",
    "    top_words = top_words.union([words[k] for k in cluster_words[i][-number_of_top_words:]])\n",
    "    \n",
    "top_words = sorted(list(top_words))"
   ]
  },
  {
   "cell_type": "code",
   "execution_count": null,
   "id": "cf5e483f",
   "metadata": {
    "scrolled": true
   },
   "outputs": [],
   "source": [
    "# Check scores of different numbers of clustering\n",
    "words = vectorizer.get_feature_names_out()\n",
    "word_df = pd.DataFrame()\n",
    "\n",
    "for n in range(2, 16):\n",
    "    kmc = KMeans(n_clusters=n, n_init=3, random_state=117)  # random_state for consistency\n",
    "    kmc.fit(idf_matrix)\n",
    "    word_df['Cluster'] = pd.DataFrame(kmc.labels_.tolist())\n",
    "    print(f'Clusters: {n}  Silhouette score: {silhouette_score(idf_matrix, word_df[\"Cluster\"])}')"
   ]
  },
  {
   "cell_type": "code",
   "execution_count": null,
   "id": "d229dc0a",
   "metadata": {},
   "outputs": [],
   "source": [
    "# Check top words of Cluster 3 and 10, based on the silhouette scores and consideration of manageable amount of clusters\n",
    "\n",
    "from sklearn.cluster import KMeans\n",
    "from sklearn.metrics import silhouette_score\n",
    "\n",
    "kmc_3 = KMeans(n_clusters=3, n_init=3, random_state=117) \n",
    "kmc_3.fit(idf_matrix)\n",
    "\n",
    "number_of_top_words = 20\n",
    "\n",
    "cluster_words = np.argsort(kmc_3.cluster_centers_, axis=1)\n",
    "words = vectorizer.get_feature_names_out()\n",
    "\n",
    "top_words = set()\n",
    "\n",
    "for i in range(3):\n",
    "    print(f'Cluster {i}: ')\n",
    "    print(', '.join([words[k] for k in cluster_words[i][-number_of_top_words:]]),'\\n')\n",
    "    top_words = top_words.union([words[k] for k in cluster_words[i][-number_of_top_words:]])\n",
    "    \n",
    "top_words_3_clusters = sorted(list(top_words))"
   ]
  },
  {
   "cell_type": "code",
   "execution_count": null,
   "id": "abe1d46e",
   "metadata": {},
   "outputs": [],
   "source": [
    "# Size of clusters for 3-Cluster model\n",
    "\n",
    "word_df_3 = pd.DataFrame(counts.toarray(), columns=words)[top_words_3_clusters]\n",
    "word_df_3['Cluster'] = kmc_3.labels_.tolist()\n",
    "\n",
    "word_df_3.groupby('Cluster').count()[top_words_3_clusters[0]].\\\n",
    "    plot.bar(rot=0).\\\n",
    "    set(ylabel='Product count',\n",
    "    title='Number of Products per Cluster');"
   ]
  },
  {
   "cell_type": "code",
   "execution_count": null,
   "id": "d45c96e6",
   "metadata": {},
   "outputs": [],
   "source": [
    "kmc_10 = KMeans(n_clusters=10, n_init=3, random_state=117)  # random_state for consistency\n",
    "kmc_10.fit(idf_matrix)\n",
    "\n",
    "number_of_top_words = 10\n",
    "\n",
    "cluster_words = np.argsort(kmc_10.cluster_centers_, axis=1)\n",
    "words = vectorizer.get_feature_names_out()\n",
    "\n",
    "top_words = set()\n",
    "\n",
    "for i in range(10):\n",
    "    print(f'Cluster {i}: ')\n",
    "    print(', '.join([words[k] for k in cluster_words[i][-number_of_top_words:]]),'\\n')\n",
    "    top_words = top_words.union([words[k] for k in cluster_words[i][-number_of_top_words:]])\n",
    "    \n",
    "top_words_10_clusters = sorted(list(top_words))"
   ]
  },
  {
   "cell_type": "code",
   "execution_count": null,
   "id": "0a79d607",
   "metadata": {
    "scrolled": true
   },
   "outputs": [],
   "source": [
    "# Size of clusters for 10-Cluster model\n",
    "\n",
    "word_df_10 = pd.DataFrame(counts.toarray(), columns=words)[top_words_10_clusters]\n",
    "word_df_10['Cluster'] = kmc_10.labels_.tolist()\n",
    "\n",
    "word_df_10.groupby('Cluster').count()[top_words_10_clusters[0]].\\\n",
    "    plot.bar(rot=0).\\\n",
    "    set(ylabel='Product count',\n",
    "    title='Number of Products per Cluster');"
   ]
  },
  {
   "cell_type": "markdown",
   "id": "7bcedf3a",
   "metadata": {},
   "source": [
    "## Testing - modeling by Word Embedding method"
   ]
  },
  {
   "cell_type": "code",
   "execution_count": null,
   "id": "8aed5594",
   "metadata": {},
   "outputs": [],
   "source": [
    "from gensim.models import Word2Vec  # using the word2vec implementation provided by the Gensim library\n",
    "from gensim.utils import simple_preprocess # Tokenization using Gensim's own simple_preprocess method, \n",
    "                                           # which will remove punctuation and change all words to lowercase\n",
    "import re\n",
    "\n",
    "def process_text(text):\n",
    "    \"\"\"\n",
    "    Splits feature/claim text into sentences, then sentences into tokens. Returns \n",
    "    nested list.\n",
    "    \"\"\"\n",
    "    words = [simple_preprocess(sentence, deacc=True) \n",
    "             for sentence in re.split('\\.|\\?|\\!', text)\n",
    "             if sentence]\n",
    "    return words\n",
    "\n",
    "# Flatten list to contain all sentences from all reviews\n",
    "sentences = [sentence for text in product_features['Claims/Features'] \n",
    "             for sentence in process_text(text)]"
   ]
  },
  {
   "cell_type": "code",
   "execution_count": null,
   "id": "e65f481e",
   "metadata": {
    "scrolled": false
   },
   "outputs": [],
   "source": [
    "print(sentences[:10])"
   ]
  },
  {
   "cell_type": "code",
   "execution_count": null,
   "id": "56bfed4d",
   "metadata": {},
   "outputs": [],
   "source": [
    "# Using the tokenized sentences to train the Word2Vec model\n",
    "# Note that stop words are NOT removed because all words carry meaning, even common ones\n",
    "\n",
    "w2v = Word2Vec(sentences,\n",
    "               workers=4,   # Worker threads (=faster w/ multicore)\n",
    "               vector_size=300,    # Dimensionality of vectors to represent each word\n",
    "               window=5,    # Window size\n",
    "               min_count=3, # Ignore words with frequency lower than this\n",
    "               sample=1e-3) # Threshold for which higher-frequency \n",
    "                            # words are randomly downsampled\n",
    "\n",
    "w2v.save('innova_models/w2v_v1.model')"
   ]
  },
  {
   "cell_type": "code",
   "execution_count": null,
   "id": "01e9710f",
   "metadata": {},
   "outputs": [],
   "source": [
    "# In order to visualize the vocabulary, we'll need to reduce it from \n",
    "# 300 vector dimensionsto 2 dimensions using principal component analysis (PCA)\n",
    "\n",
    "from sklearn.decomposition import PCA\n",
    "\n",
    "# limit our vocabulary to the 500 most common words to make the visualization more readable\n",
    "n = 500\n",
    "vocabulary = [word for word in w2v.wv.key_to_index.keys() \n",
    "              if word not in Stop_Words] #Remove stop words since they don't add useful information to the visualization\n",
    "\n",
    "vocabulary = sorted(vocabulary, key=lambda x: -w2v.wv.get_vecattr(x,\"count\"))[:n]\n",
    "vectors = w2v.wv[vocabulary]\n",
    "\n",
    "# Reduce vector dimensionality from 300 to 2\n",
    "pca = PCA(n_components=2, random_state=42)\n",
    "vectors_t = pca.fit_transform(vectors)\n",
    "\n",
    "# Put transformed vectors into DataFrame\n",
    "vocab_df = pd.DataFrame(vectors_t, columns=['x', 'y']).assign(word=vocabulary)\n",
    "\n",
    "# Print head\n",
    "vocab_df.head()"
   ]
  },
  {
   "cell_type": "code",
   "execution_count": null,
   "id": "83396735",
   "metadata": {},
   "outputs": [],
   "source": [
    "from bokeh.io import output_notebook, show\n",
    "from bokeh.models import BoxZoomTool, ColumnDataSource, HoverTool, ResetTool\n",
    "from bokeh.models.annotations import Span, Label\n",
    "from bokeh.plotting import figure\n",
    "output_notebook()\n",
    "\n",
    "# Helper function\n",
    "def get_coords(word):\n",
    "    \"\"\"Given a word from `vocab_df`, returns tuple with x, y coordinates.\"\"\"\n",
    "    coords = vocab_df[vocab_df['word'] == word][['x', 'y']]\n",
    "    return list(coords.itertuples(name=None, index=False))[0]\n",
    "\n",
    "# Create plot\n",
    "p = figure(width=700, \n",
    "           height=400,\n",
    "           tools=[HoverTool(tooltips='@word'), BoxZoomTool(), ResetTool()],\n",
    "           title='Restaurant Review Vocabulary')\n",
    "\n",
    "# Add vocabulary\n",
    "source = ColumnDataSource(vocab_df)\n",
    "p.circle('x', 'y', source=source, size=5, \n",
    "         fill_color='blue', fill_alpha=0.3, \n",
    "         hover_fill_color='yellow')\n",
    "\n",
    "# Add verticle and horizontal lines\n",
    "line_x, line_y = get_coords('protein')\n",
    "\n",
    "vline = Span(location=line_x, dimension='height', \n",
    "             line_dash='dashed', line_color='red')\n",
    "p.add_layout(vline)\n",
    "\n",
    "hline = Span(location=line_y, dimension='width', \n",
    "             line_dash='dashed', line_color='red')\n",
    "p.add_layout(hline)\n",
    "\n",
    "# Display plot\n",
    "show(p)"
   ]
  }
 ],
 "metadata": {
  "kernelspec": {
   "display_name": "Python 3 (ipykernel)",
   "language": "python",
   "name": "python3"
  },
  "language_info": {
   "codemirror_mode": {
    "name": "ipython",
    "version": 3
   },
   "file_extension": ".py",
   "mimetype": "text/x-python",
   "name": "python",
   "nbconvert_exporter": "python",
   "pygments_lexer": "ipython3",
   "version": "3.9.12"
  }
 },
 "nbformat": 4,
 "nbformat_minor": 5
}
